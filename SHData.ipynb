{
  "nbformat": 4,
  "nbformat_minor": 0,
  "metadata": {
    "colab": {
      "name": "SHData.ipynb",
      "provenance": [],
      "collapsed_sections": [],
      "authorship_tag": "ABX9TyPDwAlWHF4Ox23OwLnMvx88",
      "include_colab_link": true
    },
    "kernelspec": {
      "name": "python3",
      "display_name": "Python 3"
    }
  },
  "cells": [
    {
      "cell_type": "markdown",
      "metadata": {
        "id": "view-in-github",
        "colab_type": "text"
      },
      "source": [
        "<a href=\"https://colab.research.google.com/github/JavierCorralLizarraga/Datos-de-samsung-health/blob/master/SHData.ipynb\" target=\"_parent\"><img src=\"https://colab.research.google.com/assets/colab-badge.svg\" alt=\"Open In Colab\"/></a>"
      ]
    },
    {
      "cell_type": "code",
      "metadata": {
        "id": "GfrgC0Ob_VFn",
        "colab_type": "code",
        "colab": {}
      },
      "source": [
        "import pandas as pd\n",
        "import json       "
      ],
      "execution_count": null,
      "outputs": []
    },
    {
      "cell_type": "code",
      "metadata": {
        "id": "FmdZbZQmLcwY",
        "colab_type": "code",
        "colab": {}
      },
      "source": [
        "''' tests de estas mamadas '''\n",
        "jsonx = '[{\"heart_rate\":111.0,\"heart_rate_max\":112.0,\"heart_rate_min\":111.0,\"start_time\":1585152000000,\"end_time\":1585152059000},{\"heart_rate\":114.0,\"heart_rate_max\":116.0,\"heart_rate_min\":112.0,\"start_time\":1585152120000,\"end_time\":1585152179000},{\"heart_rate\":114.0,\"heart_rate_max\":116.0,\"heart_rate_min\":112.0,\"start_time\":1585152180000,\"end_time\":1585152239000},{\"heart_rate\":108.0,\"heart_rate_max\":114.0,\"heart_rate_min\":103.0,\"start_time\":1585152240000,\"end_time\":1585152299000},{\"heart_rate\":97.0,\"heart_rate_max\":103.0,\"heart_rate_min\":92.0,\"start_time\":1585152300000,\"end_time\":1585152359000},{\"heart_rate\":83.0,\"heart_rate_max\":94.0,\"heart_rate_min\":77.0,\"start_time\":1585152360000,\"end_time\":1585152419000},{\"heart_rate\":83.0,\"heart_rate_max\":89.0,\"heart_rate_min\":76.0,\"start_time\":1585152420000,\"end_time\":1585152479000},{\"heart_rate\":83.0,\"heart_rate_max\":86.0,\"heart_rate_min\":79.0,\"start_time\":1585152480000,\"end_time\":1585152539000},{\"heart_rate\":83.0,\"heart_rate_max\":87.0,\"heart_rate_min\":79.0,\"start_time\":1585152540000,\"end_time\":1585152599000},{\"heart_rate\":66.0,\"heart_rate_max\":78.0,\"heart_rate_min\":60.0,\"start_time\":1585152600000,\"end_time\":1585152659000},{\"heart_rate\":68.0,\"heart_rate_max\":73.0,\"heart_rate_min\":66.0,\"start_time\":1585152660000,\"end_time\":1585152719000},{\"heart_rate\":73.0,\"heart_rate_max\":82.0,\"heart_rate_min\":65.0,\"start_time\":1585152720000,\"end_time\":1585152779000},{\"heart_rate\":62.0,\"heart_rate_max\":71.0,\"heart_rate_min\":56.0,\"start_time\":1585152780000,\"end_time\":1585152839000},{\"heart_rate\":58.0,\"heart_rate_max\":61.0,\"heart_rate_min\":54.0,\"start_time\":1585152840000,\"end_time\":1585152899000},{\"heart_rate\":61.0,\"heart_rate_max\":66.0,\"heart_rate_min\":57.0,\"start_time\":1585152900000,\"end_time\":1585152959000},{\"heart_rate\":56.0,\"heart_rate_max\":62.0,\"heart_rate_min\":53.0,\"start_time\":1585152960000,\"end_time\":1585153019000},{\"heart_rate\":56.0,\"heart_rate_max\":59.0,\"heart_rate_min\":54.0,\"start_time\":1585153020000,\"end_time\":1585153079000},{\"heart_rate\":63.0,\"heart_rate_max\":75.0,\"heart_rate_min\":56.0,\"start_time\":1585153080000,\"end_time\":1585153139000},{\"heart_rate\":76.0,\"heart_rate_max\":83.0,\"heart_rate_min\":68.0,\"start_time\":1585153140000,\"end_time\":1585153199000},{\"heart_rate\":80.0,\"heart_rate_max\":83.0,\"heart_rate_min\":79.0,\"start_time\":1585153200000,\"end_time\":1585153259000},{\"heart_rate\":80.0,\"heart_rate_max\":83.0,\"heart_rate_min\":78.0,\"start_time\":1585153260000,\"end_time\":1585153319000},{\"heart_rate\":81.0,\"heart_rate_max\":87.0,\"heart_rate_min\":78.0,\"start_time\":1585153320000,\"end_time\":1585153379000},{\"heart_rate\":85.0,\"heart_rate_max\":92.0,\"heart_rate_min\":78.0,\"start_time\":1585153380000,\"end_time\":1585153439000},{\"heart_rate\":84.0,\"heart_rate_max\":89.0,\"heart_rate_min\":79.0,\"start_time\":1585153440000,\"end_time\":1585153499000},{\"heart_rate\":85.0,\"heart_rate_max\":92.0,\"heart_rate_min\":80.0,\"start_time\":1585153500000,\"end_time\":1585153559000},{\"heart_rate\":87.0,\"heart_rate_max\":93.0,\"heart_rate_min\":82.0,\"start_time\":1585153560000,\"end_time\":1585153619000},{\"heart_rate\":99.0,\"heart_rate_max\":104.0,\"heart_rate_min\":96.0,\"start_time\":1585153620000,\"end_time\":1585153679000},{\"heart_rate\":104.0,\"heart_rate_max\":107.0,\"heart_rate_min\":100.0,\"start_time\":1585153680000,\"end_time\":1585153739000},{\"heart_rate\":105.0,\"heart_rate_max\":113.0,\"heart_rate_min\":98.0,\"start_time\":1585153740000,\"end_time\":1585153799000},{\"heart_rate\":101.0,\"heart_rate_max\":106.0,\"heart_rate_min\":95.0,\"start_time\":1585153800000,\"end_time\":1585153859000},{\"heart_rate\":107.0,\"heart_rate_max\":112.0,\"heart_rate_min\":104.0,\"start_time\":1585153860000,\"end_time\":1585153919000},{\"heart_rate\":115.0,\"heart_rate_max\":116.0,\"heart_rate_min\":114.0,\"start_time\":1585153920000,\"end_time\":1585153979000},{\"heart_rate\":114.0,\"heart_rate_max\":117.0,\"heart_rate_min\":112.0,\"start_time\":1585153980000,\"end_time\":1585154039000},{\"heart_rate\":65.0,\"heart_rate_max\":113.0,\"heart_rate_min\":57.0,\"start_time\":1585154040000,\"end_time\":1585154099000},{\"heart_rate\":62.0,\"heart_rate_max\":66.0,\"heart_rate_min\":57.0,\"start_time\":1585154100000,\"end_time\":1585154159000},{\"heart_rate\":60.0,\"heart_rate_max\":64.0,\"heart_rate_min\":55.0,\"start_time\":1585154160000,\"end_time\":1585154219000},{\"heart_rate\":64.0,\"heart_rate_max\":76.0,\"heart_rate_min\":58.0,\"start_time\":1585154220000,\"end_time\":1585154279000},{\"heart_rate\":67.0,\"heart_rate_max\":75.0,\"heart_rate_min\":61.0,\"start_time\":1585154280000,\"end_time\":1585154339000},{\"heart_rate\":66.0,\"heart_rate_max\":74.0,\"heart_rate_min\":61.0,\"start_time\":1585154340000,\"end_time\":1585154399000},{\"heart_rate\":68.0,\"heart_rate_max\":72.0,\"heart_rate_min\":62.0,\"start_time\":1585154400000,\"end_time\":1585154459000},{\"heart_rate\":70.0,\"heart_rate_max\":75.0,\"heart_rate_min\":67.0,\"start_time\":1585154460000,\"end_time\":1585154519000},{\"heart_rate\":66.0,\"heart_rate_max\":78.0,\"heart_rate_min\":60.0,\"start_time\":1585154520000,\"end_time\":1585154579000},{\"heart_rate\":77.0,\"heart_rate_max\":82.0,\"heart_rate_min\":71.0,\"start_time\":1585154580000,\"end_time\":1585154639000},{\"heart_rate\":73.0,\"heart_rate_max\":81.0,\"heart_rate_min\":67.0,\"start_time\":1585154640000,\"end_time\":1585154699000},{\"heart_rate\":72.0,\"heart_rate_max\":80.0,\"heart_rate_min\":63.0,\"start_time\":1585154700000,\"end_time\":1585154759000},{\"heart_rate\":62.0,\"heart_rate_max\":67.0,\"heart_rate_min\":58.0,\"start_time\":1585154760000,\"end_time\":1585154819000},{\"heart_rate\":62.0,\"heart_rate_max\":66.0,\"heart_rate_min\":59.0,\"start_time\":1585154820000,\"end_time\":1585154879000},{\"heart_rate\":65.0,\"heart_rate_max\":69.0,\"heart_rate_min\":64.0,\"start_time\":1585154880000,\"end_time\":1585154939000},{\"heart_rate\":65.0,\"heart_rate_max\":70.0,\"heart_rate_min\":61.0,\"start_time\":1585154940000,\"end_time\":1585154999000},{\"heart_rate\":66.0,\"heart_rate_max\":70.0,\"heart_rate_min\":63.0,\"start_time\":1585155000000,\"end_time\":1585155059000},{\"heart_rate\":72.0,\"heart_rate_max\":79.0,\"heart_rate_min\":63.0,\"start_time\":1585155060000,\"end_time\":1585155119000},{\"heart_rate\":64.0,\"heart_rate_max\":69.0,\"heart_rate_min\":62.0,\"start_time\":1585155120000,\"end_time\":1585155179000},{\"heart_rate\":72.0,\"heart_rate_max\":84.0,\"heart_rate_min\":64.0,\"start_time\":1585155180000,\"end_time\":1585155239000},{\"heart_rate\":73.0,\"heart_rate_max\":80.0,\"heart_rate_min\":67.0,\"start_time\":1585155240000,\"end_time\":1585155299000},{\"heart_rate\":81.0,\"heart_rate_max\":88.0,\"heart_rate_min\":71.0,\"start_time\":1585155300000,\"end_time\":1585155359000},{\"heart_rate\":84.0,\"heart_rate_max\":87.0,\"heart_rate_min\":82.0,\"start_time\":1585155360000,\"end_time\":1585155419000},{\"heart_rate\":70.0,\"heart_rate_max\":86.0,\"heart_rate_min\":57.0,\"start_time\":1585155420000,\"end_time\":1585155479000},{\"heart_rate\":63.0,\"heart_rate_max\":70.0,\"heart_rate_min\":60.0,\"start_time\":1585155480000,\"end_time\":1585155539000},{\"heart_rate\":60.0,\"heart_rate_max\":64.0,\"heart_rate_min\":59.0,\"start_time\":1585155540000,\"end_time\":1585155599000}]'\n",
        "json.loads(jsonx)\n",
        "#pd.read_json(jsonx)\n",
        "# df2 = pd.(jsonx)"
      ],
      "execution_count": null,
      "outputs": []
    },
    {
      "cell_type": "code",
      "metadata": {
        "id": "4fQ6NOSs8Ia_",
        "colab_type": "code",
        "colab": {}
      },
      "source": [
        "abril25_4PM = pd.read_json(jsonx)"
      ],
      "execution_count": null,
      "outputs": []
    },
    {
      "cell_type": "code",
      "metadata": {
        "id": "CwXH0Dfx8N7X",
        "colab_type": "code",
        "colab": {
          "base_uri": "https://localhost:8080/",
          "height": 204
        },
        "outputId": "617fbbea-9a5a-427d-cf6f-7b2569092dc3"
      },
      "source": [
        "abril25_4PM.head(5)"
      ],
      "execution_count": null,
      "outputs": [
        {
          "output_type": "execute_result",
          "data": {
            "text/html": [
              "<div>\n",
              "<style scoped>\n",
              "    .dataframe tbody tr th:only-of-type {\n",
              "        vertical-align: middle;\n",
              "    }\n",
              "\n",
              "    .dataframe tbody tr th {\n",
              "        vertical-align: top;\n",
              "    }\n",
              "\n",
              "    .dataframe thead th {\n",
              "        text-align: right;\n",
              "    }\n",
              "</style>\n",
              "<table border=\"1\" class=\"dataframe\">\n",
              "  <thead>\n",
              "    <tr style=\"text-align: right;\">\n",
              "      <th></th>\n",
              "      <th>heart_rate</th>\n",
              "      <th>heart_rate_max</th>\n",
              "      <th>heart_rate_min</th>\n",
              "      <th>start_time</th>\n",
              "      <th>end_time</th>\n",
              "    </tr>\n",
              "  </thead>\n",
              "  <tbody>\n",
              "    <tr>\n",
              "      <th>0</th>\n",
              "      <td>111</td>\n",
              "      <td>112</td>\n",
              "      <td>111</td>\n",
              "      <td>2020-03-25 16:00:00</td>\n",
              "      <td>2020-03-25 16:00:59</td>\n",
              "    </tr>\n",
              "    <tr>\n",
              "      <th>1</th>\n",
              "      <td>114</td>\n",
              "      <td>116</td>\n",
              "      <td>112</td>\n",
              "      <td>2020-03-25 16:02:00</td>\n",
              "      <td>2020-03-25 16:02:59</td>\n",
              "    </tr>\n",
              "    <tr>\n",
              "      <th>2</th>\n",
              "      <td>114</td>\n",
              "      <td>116</td>\n",
              "      <td>112</td>\n",
              "      <td>2020-03-25 16:03:00</td>\n",
              "      <td>2020-03-25 16:03:59</td>\n",
              "    </tr>\n",
              "    <tr>\n",
              "      <th>3</th>\n",
              "      <td>108</td>\n",
              "      <td>114</td>\n",
              "      <td>103</td>\n",
              "      <td>2020-03-25 16:04:00</td>\n",
              "      <td>2020-03-25 16:04:59</td>\n",
              "    </tr>\n",
              "    <tr>\n",
              "      <th>4</th>\n",
              "      <td>97</td>\n",
              "      <td>103</td>\n",
              "      <td>92</td>\n",
              "      <td>2020-03-25 16:05:00</td>\n",
              "      <td>2020-03-25 16:05:59</td>\n",
              "    </tr>\n",
              "  </tbody>\n",
              "</table>\n",
              "</div>"
            ],
            "text/plain": [
              "   heart_rate  heart_rate_max  ...          start_time            end_time\n",
              "0         111             112  ... 2020-03-25 16:00:00 2020-03-25 16:00:59\n",
              "1         114             116  ... 2020-03-25 16:02:00 2020-03-25 16:02:59\n",
              "2         114             116  ... 2020-03-25 16:03:00 2020-03-25 16:03:59\n",
              "3         108             114  ... 2020-03-25 16:04:00 2020-03-25 16:04:59\n",
              "4          97             103  ... 2020-03-25 16:05:00 2020-03-25 16:05:59\n",
              "\n",
              "[5 rows x 5 columns]"
            ]
          },
          "metadata": {
            "tags": []
          },
          "execution_count": 32
        }
      ]
    },
    {
      "cell_type": "code",
      "metadata": {
        "id": "EBfXUZNq_ptq",
        "colab_type": "code",
        "colab": {
          "base_uri": "https://localhost:8080/",
          "height": 34
        },
        "outputId": "e2215e57-ad27-4c77-a4a6-bb8c8ec67b02"
      },
      "source": [
        "abril25_4PM.heart_rate[1]"
      ],
      "execution_count": null,
      "outputs": [
        {
          "output_type": "execute_result",
          "data": {
            "text/plain": [
              "114"
            ]
          },
          "metadata": {
            "tags": []
          },
          "execution_count": 7
        }
      ]
    },
    {
      "cell_type": "code",
      "metadata": {
        "id": "KblgJN-6ATsK",
        "colab_type": "code",
        "colab": {}
      },
      "source": [
        "abril25_4PM.heart_rate >= 100"
      ],
      "execution_count": null,
      "outputs": []
    },
    {
      "cell_type": "code",
      "metadata": {
        "id": "kFGbTamq2dWd",
        "colab_type": "code",
        "colab": {
          "base_uri": "https://localhost:8080/",
          "height": 297
        },
        "outputId": "0a79f55f-cf60-431f-df5a-9afbcd776ccb"
      },
      "source": [
        "abril25_4PM.plot(x='start_time', y='heart_rate')"
      ],
      "execution_count": null,
      "outputs": [
        {
          "output_type": "execute_result",
          "data": {
            "text/plain": [
              "<matplotlib.axes._subplots.AxesSubplot at 0x7f88490f0cf8>"
            ]
          },
          "metadata": {
            "tags": []
          },
          "execution_count": 24
        },
        {
          "output_type": "display_data",
          "data": {
            "image/png": "[encoded data removed]",
            "text/plain": [
              "<Figure size 432x288 with 1 Axes>"
            ]
          },
          "metadata": {
            "tags": [],
            "needs_background": "light"
          }
        }
      ]
    },
    {
      "cell_type": "code",
      "metadata": {
        "id": "NKOs6AJPnIFR",
        "colab_type": "code",
        "colab": {
          "base_uri": "https://localhost:8080/",
          "height": 34
        },
        "outputId": "7f18063d-34f8-4d00-dea3-745dc38ba41e"
      },
      "source": [
        "abril25_4PM.heart_rate.median()\n"
      ],
      "execution_count": null,
      "outputs": [
        {
          "output_type": "execute_result",
          "data": {
            "text/plain": [
              "73.0"
            ]
          },
          "metadata": {
            "tags": []
          },
          "execution_count": 25
        }
      ]
    },
    {
      "cell_type": "code",
      "metadata": {
        "id": "LId2JwQNEetX",
        "colab_type": "code",
        "colab": {}
      },
      "source": [
        "''' lo mismo que antes pero con un copy paste de un archivo creado con \"cat\" y corregido en vim (es una putiza, no vale la pena)'''\n",
        "#jsonDeDos = '[{\"heart_rate\":111.0,\"heart_rate_max\":112.0,\"heart_rate_min\":111.0,\"start_time\":1585152000000,\"end_time\":1585152059000},{\"heart_rate\":114.0,\"heart_rate_max\":116.0,\"heart_rate_min\":112.0,\"start_time\":1585152120000,\"end_time\":1585152179000},{\"heart_rate\":114.0,\"heart_rate_max\":116.0,\"heart_rate_min\":112.0,\"start_time\":1585152180000,\"end_time\":1585152239000},{\"heart_rate\":108.0,\"heart_rate_max\":114.0,\"heart_rate_min\":103.0,\"start_time\":1585152240000,\"end_time\":1585152299000},{\"heart_rate\":97.0,\"heart_rate_max\":103.0,\"heart_rate_min\":92.0,\"start_time\":1585152300000,\"end_time\":1585152359000},{\"heart_rate\":83.0,\"heart_rate_max\":94.0,\"heart_rate_min\":77.0,\"start_time\":1585152360000,\"end_time\":1585152419000},{\"heart_rate\":83.0,\"heart_rate_max\":89.0,\"heart_rate_min\":76.0,\"start_time\":1585152420000,\"end_time\":1585152479000},{\"heart_rate\":83.0,\"heart_rate_max\":86.0,\"heart_rate_min\":79.0,\"start_time\":1585152480000,\"end_time\":1585152539000},{\"heart_rate\":83.0,\"heart_rate_max\":87.0,\"heart_rate_min\":79.0,\"start_time\":1585152540000,\"end_time\":1585152599000},{\"heart_rate\":66.0,\"heart_rate_max\":78.0,\"heart_rate_min\":60.0,\"start_time\":1585152600000,\"end_time\":1585152659000},{\"heart_rate\":68.0,\"heart_rate_max\":73.0,\"heart_rate_min\":66.0,\"start_time\":1585152660000,\"end_time\":1585152719000},{\"heart_rate\":73.0,\"heart_rate_max\":82.0,\"heart_rate_min\":65.0,\"start_time\":1585152720000,\"end_time\":1585152779000},{\"heart_rate\":62.0,\"heart_rate_max\":71.0,\"heart_rate_min\":56.0,\"start_time\":1585152780000,\"end_time\":1585152839000},{\"heart_rate\":58.0,\"heart_rate_max\":61.0,\"heart_rate_min\":54.0,\"start_time\":1585152840000,\"end_time\":1585152899000},{\"heart_rate\":61.0,\"heart_rate_max\":66.0,\"heart_rate_min\":57.0,\"start_time\":1585152900000,\"end_time\":1585152959000},{\"heart_rate\":56.0,\"heart_rate_max\":62.0,\"heart_rate_min\":53.0,\"start_time\":1585152960000,\"end_time\":1585153019000},{\"heart_rate\":56.0,\"heart_rate_max\":59.0,\"heart_rate_min\":54.0,\"start_time\":1585153020000,\"end_time\":1585153079000},{\"heart_rate\":63.0,\"heart_rate_max\":75.0,\"heart_rate_min\":56.0,\"start_time\":1585153080000,\"end_time\":1585153139000},{\"heart_rate\":76.0,\"heart_rate_max\":83.0,\"heart_rate_min\":68.0,\"start_time\":1585153140000,\"end_time\":1585153199000},{\"heart_rate\":80.0,\"heart_rate_max\":83.0,\"heart_rate_min\":79.0,\"start_time\":1585153200000,\"end_time\":1585153259000},{\"heart_rate\":80.0,\"heart_rate_max\":83.0,\"heart_rate_min\":78.0,\"start_time\":1585153260000,\"end_time\":1585153319000},{\"heart_rate\":81.0,\"heart_rate_max\":87.0,\"heart_rate_min\":78.0,\"start_time\":1585153320000,\"end_time\":1585153379000},{\"heart_rate\":85.0,\"heart_rate_max\":92.0,\"heart_rate_min\":78.0,\"start_time\":1585153380000,\"end_time\":1585153439000},{\"heart_rate\":84.0,\"heart_rate_max\":89.0,\"heart_rate_min\":79.0,\"start_time\":1585153440000,\"end_time\":1585153499000},{\"heart_rate\":85.0,\"heart_rate_max\":92.0,\"heart_rate_min\":80.0,\"start_time\":1585153500000,\"end_time\":1585153559000},{\"heart_rate\":87.0,\"heart_rate_max\":93.0,\"heart_rate_min\":82.0,\"start_time\":1585153560000,\"end_time\":1585153619000},{\"heart_rate\":99.0,\"heart_rate_max\":104.0,\"heart_rate_min\":96.0,\"start_time\":1585153620000,\"end_time\":1585153679000},{\"heart_rate\":104.0,\"heart_rate_max\":107.0,\"heart_rate_min\":100.0,\"start_time\":1585153680000,\"end_time\":1585153739000},{\"heart_rate\":105.0,\"heart_rate_max\":113.0,\"heart_rate_min\":98.0,\"start_time\":1585153740000,\"end_time\":1585153799000},{\"heart_rate\":101.0,\"heart_rate_max\":106.0,\"heart_rate_min\":95.0,\"start_time\":1585153800000,\"end_time\":1585153859000},{\"heart_rate\":107.0,\"heart_rate_max\":112.0,\"heart_rate_min\":104.0,\"start_time\":1585153860000,\"end_time\":1585153919000},{\"heart_rate\":115.0,\"heart_rate_max\":116.0,\"heart_rate_min\":114.0,\"start_time\":1585153920000,\"end_time\":1585153979000},{\"heart_rate\":114.0,\"heart_rate_max\":117.0,\"heart_rate_min\":112.0,\"start_time\":1585153980000,\"end_time\":1585154039000},{\"heart_rate\":65.0,\"heart_rate_max\":113.0,\"heart_rate_min\":57.0,\"start_time\":1585154040000,\"end_time\":1585154099000},{\"heart_rate\":62.0,\"heart_rate_max\":66.0,\"heart_rate_min\":57.0,\"start_time\":1585154100000,\"end_time\":1585154159000},{\"heart_rate\":60.0,\"heart_rate_max\":64.0,\"heart_rate_min\":55.0,\"start_time\":1585154160000,\"end_time\":1585154219000},{\"heart_rate\":64.0,\"heart_rate_max\":76.0,\"heart_rate_min\":58.0,\"start_time\":1585154220000,\"end_time\":1585154279000},{\"heart_rate\":67.0,\"heart_rate_max\":75.0,\"heart_rate_min\":61.0,\"start_time\":1585154280000,\"end_time\":1585154339000},{\"heart_rate\":66.0,\"heart_rate_max\":74.0,\"heart_rate_min\":61.0,\"start_time\":1585154340000,\"end_time\":1585154399000},{\"heart_rate\":68.0,\"heart_rate_max\":72.0,\"heart_rate_min\":62.0,\"start_time\":1585154400000,\"end_time\":1585154459000},{\"heart_rate\":70.0,\"heart_rate_max\":75.0,\"heart_rate_min\":67.0,\"start_time\":1585154460000,\"end_time\":1585154519000},{\"heart_rate\":66.0,\"heart_rate_max\":78.0,\"heart_rate_min\":60.0,\"start_time\":1585154520000,\"end_time\":1585154579000},{\"heart_rate\":77.0,\"heart_rate_max\":82.0,\"heart_rate_min\":71.0,\"start_time\":1585154580000,\"end_time\":1585154639000},{\"heart_rate\":73.0,\"heart_rate_max\":81.0,\"heart_rate_min\":67.0,\"start_time\":1585154640000,\"end_time\":1585154699000},{\"heart_rate\":72.0,\"heart_rate_max\":80.0,\"heart_rate_min\":63.0,\"start_time\":1585154700000,\"end_time\":1585154759000},{\"heart_rate\":62.0,\"heart_rate_max\":67.0,\"heart_rate_min\":58.0,\"start_time\":1585154760000,\"end_time\":1585154819000},{\"heart_rate\":62.0,\"heart_rate_max\":66.0,\"heart_rate_min\":59.0,\"start_time\":1585154820000,\"end_time\":1585154879000},{\"heart_rate\":65.0,\"heart_rate_max\":69.0,\"heart_rate_min\":64.0,\"start_time\":1585154880000,\"end_time\":1585154939000},{\"heart_rate\":65.0,\"heart_rate_max\":70.0,\"heart_rate_min\":61.0,\"start_time\":1585154940000,\"end_time\":1585154999000},{\"heart_rate\":66.0,\"heart_rate_max\":70.0,\"heart_rate_min\":63.0,\"start_time\":1585155000000,\"end_time\":1585155059000},{\"heart_rate\":72.0,\"heart_rate_max\":79.0,\"heart_rate_min\":63.0,\"start_time\":1585155060000,\"end_time\":1585155119000},{\"heart_rate\":64.0,\"heart_rate_max\":69.0,\"heart_rate_min\":62.0,\"start_time\":1585155120000,\"end_time\":1585155179000},{\"heart_rate\":72.0,\"heart_rate_max\":84.0,\"heart_rate_min\":64.0,\"start_time\":1585155180000,\"end_time\":1585155239000},{\"heart_rate\":73.0,\"heart_rate_max\":80.0,\"heart_rate_min\":67.0,\"start_time\":1585155240000,\"end_time\":1585155299000},{\"heart_rate\":81.0,\"heart_rate_max\":88.0,\"heart_rate_min\":71.0,\"start_time\":1585155300000,\"end_time\":1585155359000},{\"heart_rate\":84.0,\"heart_rate_max\":87.0,\"heart_rate_min\":82.0,\"start_time\":1585155360000,\"end_time\":1585155419000},{\"heart_rate\":70.0,\"heart_rate_max\":86.0,\"heart_rate_min\":57.0,\"start_time\":1585155420000,\"end_time\":1585155479000},{\"heart_rate\":63.0,\"heart_rate_max\":70.0,\"heart_rate_min\":60.0,\"start_time\":1585155480000,\"end_time\":1585155539000},{\"heart_rate\":60.0,\"heart_rate_max\":64.0,\"heart_rate_min\":59.0,\"start_time\":1585155540000,\"end_time\":1585155599000},{\"heart_rate\":111.0,\"heart_rate_max\":112.0,\"heart_rate_min\":111.0,\"start_time\":1585152000000,\"end_time\":1585152059000},{\"heart_rate\":114.0,\"heart_rate_max\":116.0,\"heart_rate_min\":112.0,\"start_time\":1585152120000,\"end_time\":1585152179000},{\"heart_rate\":114.0,\"heart_rate_max\":116.0,\"heart_rate_min\":112.0,\"start_time\":1585152180000,\"end_time\":1585152239000},{\"heart_rate\":108.0,\"heart_rate_max\":114.0,\"heart_rate_min\":103.0,\"start_time\":1585152240000,\"end_time\":1585152299000},{\"heart_rate\":97.0,\"heart_rate_max\":103.0,\"heart_rate_min\":92.0,\"start_time\":1585152300000,\"end_time\":1585152359000},{\"heart_rate\":83.0,\"heart_rate_max\":94.0,\"heart_rate_min\":77.0,\"start_time\":1585152360000,\"end_time\":1585152419000},{\"heart_rate\":83.0,\"heart_rate_max\":89.0,\"heart_rate_min\":76.0,\"start_time\":1585152420000,\"end_time\":1585152479000},{\"heart_rate\":83.0,\"heart_rate_max\":86.0,\"heart_rate_min\":79.0,\"start_time\":1585152480000,\"end_time\":1585152539000},{\"heart_rate\":83.0,\"heart_rate_max\":87.0,\"heart_rate_min\":79.0,\"start_time\":1585152540000,\"end_time\":1585152599000},{\"heart_rate\":66.0,\"heart_rate_max\":78.0,\"heart_rate_min\":60.0,\"start_time\":1585152600000,\"end_time\":1585152659000},{\"heart_rate\":68.0,\"heart_rate_max\":73.0,\"heart_rate_min\":66.0,\"start_time\":1585152660000,\"end_time\":1585152719000},{\"heart_rate\":73.0,\"heart_rate_max\":82.0,\"heart_rate_min\":65.0,\"start_time\":1585152720000,\"end_time\":1585152779000},{\"heart_rate\":62.0,\"heart_rate_max\":71.0,\"heart_rate_min\":56.0,\"start_time\":1585152780000,\"end_time\":1585152839000},{\"heart_rate\":58.0,\"heart_rate_max\":61.0,\"heart_rate_min\":54.0,\"start_time\":1585152840000,\"end_time\":1585152899000},{\"heart_rate\":61.0,\"heart_rate_max\":66.0,\"heart_rate_min\":57.0,\"start_time\":1585152900000,\"end_time\":1585152959000},{\"heart_rate\":56.0,\"heart_rate_max\":62.0,\"heart_rate_min\":53.0,\"start_time\":1585152960000,\"end_time\":1585153019000},{\"heart_rate\":56.0,\"heart_rate_max\":59.0,\"heart_rate_min\":54.0,\"start_time\":1585153020000,\"end_time\":1585153079000},{\"heart_rate\":63.0,\"heart_rate_max\":75.0,\"heart_rate_min\":56.0,\"start_time\":1585153080000,\"end_time\":1585153139000},{\"heart_rate\":76.0,\"heart_rate_max\":83.0,\"heart_rate_min\":68.0,\"start_time\":1585153140000,\"end_time\":1585153199000},{\"heart_rate\":80.0,\"heart_rate_max\":83.0,\"heart_rate_min\":79.0,\"start_time\":1585153200000,\"end_time\":1585153259000},{\"heart_rate\":80.0,\"heart_rate_max\":83.0,\"heart_rate_min\":78.0,\"start_time\":1585153260000,\"end_time\":1585153319000},{\"heart_rate\":81.0,\"heart_rate_max\":87.0,\"heart_rate_min\":78.0,\"start_time\":1585153320000,\"end_time\":1585153379000},{\"heart_rate\":85.0,\"heart_rate_max\":92.0,\"heart_rate_min\":78.0,\"start_time\":1585153380000,\"end_time\":1585153439000},{\"heart_rate\":84.0,\"heart_rate_max\":89.0,\"heart_rate_min\":79.0,\"start_time\":1585153440000,\"end_time\":1585153499000},{\"heart_rate\":85.0,\"heart_rate_max\":92.0,\"heart_rate_min\":80.0,\"start_time\":1585153500000,\"end_time\":1585153559000},{\"heart_rate\":87.0,\"heart_rate_max\":93.0,\"heart_rate_min\":82.0,\"start_time\":1585153560000,\"end_time\":1585153619000},{\"heart_rate\":99.0,\"heart_rate_max\":104.0,\"heart_rate_min\":96.0,\"start_time\":1585153620000,\"end_time\":1585153679000},{\"heart_rate\":104.0,\"heart_rate_max\":107.0,\"heart_rate_min\":100.0,\"start_time\":1585153680000,\"end_time\":1585153739000},{\"heart_rate\":105.0,\"heart_rate_max\":113.0,\"heart_rate_min\":98.0,\"start_time\":1585153740000,\"end_time\":1585153799000},{\"heart_rate\":101.0,\"heart_rate_max\":106.0,\"heart_rate_min\":95.0,\"start_time\":1585153800000,\"end_time\":1585153859000},{\"heart_rate\":107.0,\"heart_rate_max\":112.0,\"heart_rate_min\":104.0,\"start_time\":1585153860000,\"end_time\":1585153919000},{\"heart_rate\":115.0,\"heart_rate_max\":116.0,\"heart_rate_min\":114.0,\"start_time\":1585153920000,\"end_time\":1585153979000},{\"heart_rate\":114.0,\"heart_rate_max\":117.0,\"heart_rate_min\":112.0,\"start_time\":1585153980000,\"end_time\":1585154039000},{\"heart_rate\":65.0,\"heart_rate_max\":113.0,\"heart_rate_min\":57.0,\"start_time\":1585154040000,\"end_time\":1585154099000},{\"heart_rate\":62.0,\"heart_rate_max\":66.0,\"heart_rate_min\":57.0,\"start_time\":1585154100000,\"end_time\":1585154159000},{\"heart_rate\":60.0,\"heart_rate_max\":64.0,\"heart_rate_min\":55.0,\"start_time\":1585154160000,\"end_time\":1585154219000},{\"heart_rate\":64.0,\"heart_rate_max\":76.0,\"heart_rate_min\":58.0,\"start_time\":1585154220000,\"end_time\":1585154279000},{\"heart_rate\":67.0,\"heart_rate_max\":75.0,\"heart_rate_min\":61.0,\"start_time\":1585154280000,\"end_time\":1585154339000},{\"heart_rate\":66.0,\"heart_rate_max\":74.0,\"heart_rate_min\":61.0,\"start_time\":1585154340000,\"end_time\":1585154399000},{\"heart_rate\":68.0,\"heart_rate_max\":72.0,\"heart_rate_min\":62.0,\"start_time\":1585154400000,\"end_time\":1585154459000},{\"heart_rate\":70.0,\"heart_rate_max\":75.0,\"heart_rate_min\":67.0,\"start_time\":1585154460000,\"end_time\":1585154519000},{\"heart_rate\":66.0,\"heart_rate_max\":78.0,\"heart_rate_min\":60.0,\"start_time\":1585154520000,\"end_time\":1585154579000},{\"heart_rate\":77.0,\"heart_rate_max\":82.0,\"heart_rate_min\":71.0,\"start_time\":1585154580000,\"end_time\":1585154639000},{\"heart_rate\":73.0,\"heart_rate_max\":81.0,\"heart_rate_min\":67.0,\"start_time\":1585154640000,\"end_time\":1585154699000},{\"heart_rate\":72.0,\"heart_rate_max\":80.0,\"heart_rate_min\":63.0,\"start_time\":1585154700000,\"end_time\":1585154759000},{\"heart_rate\":62.0,\"heart_rate_max\":67.0,\"heart_rate_min\":58.0,\"start_time\":1585154760000,\"end_time\":1585154819000},{\"heart_rate\":62.0,\"heart_rate_max\":66.0,\"heart_rate_min\":59.0,\"start_time\":1585154820000,\"end_time\":1585154879000},{\"heart_rate\":65.0,\"heart_rate_max\":69.0,\"heart_rate_min\":64.0,\"start_time\":1585154880000,\"end_time\":1585154939000},{\"heart_rate\":65.0,\"heart_rate_max\":70.0,\"heart_rate_min\":61.0,\"start_time\":1585154940000,\"end_time\":1585154999000},{\"heart_rate\":66.0,\"heart_rate_max\":70.0,\"heart_rate_min\":63.0,\"start_time\":1585155000000,\"end_time\":1585155059000},{\"heart_rate\":72.0,\"heart_rate_max\":79.0,\"heart_rate_min\":63.0,\"start_time\":1585155060000,\"end_time\":1585155119000},{\"heart_rate\":64.0,\"heart_rate_max\":69.0,\"heart_rate_min\":62.0,\"start_time\":1585155120000,\"end_time\":1585155179000},{\"heart_rate\":72.0,\"heart_rate_max\":84.0,\"heart_rate_min\":64.0,\"start_time\":1585155180000,\"end_time\":1585155239000},{\"heart_rate\":73.0,\"heart_rate_max\":80.0,\"heart_rate_min\":67.0,\"start_time\":1585155240000,\"end_time\":1585155299000},{\"heart_rate\":81.0,\"heart_rate_max\":88.0,\"heart_rate_min\":71.0,\"start_time\":1585155300000,\"end_time\":1585155359000},{\"heart_rate\":84.0,\"heart_rate_max\":87.0,\"heart_rate_min\":82.0,\"start_time\":1585155360000,\"end_time\":1585155419000},{\"heart_rate\":70.0,\"heart_rate_max\":86.0,\"heart_rate_min\":57.0,\"start_time\":1585155420000,\"end_time\":1585155479000},{\"heart_rate\":63.0,\"heart_rate_max\":70.0,\"heart_rate_min\":60.0,\"start_time\":1585155480000,\"end_time\":1585155539000},{\"heart_rate\":60.0,\"heart_rate_max\":64.0,\"heart_rate_min\":59.0,\"start_time\":1585155540000,\"end_time\":1585155599000}][{\"heart_rate\":111.0,\"heart_rate_max\":112.0,\"heart_rate_min\":111.0,\"start_time\":1585152000000,\"end_time\":1585152059000},{\"heart_rate\":114.0,\"heart_rate_max\":116.0,\"heart_rate_min\":112.0,\"start_time\":1585152120000,\"end_time\":1585152179000},{\"heart_rate\":114.0,\"heart_rate_max\":116.0,\"heart_rate_min\":112.0,\"start_time\":1585152180000,\"end_time\":1585152239000},{\"heart_rate\":108.0,\"heart_rate_max\":114.0,\"heart_rate_min\":103.0,\"start_time\":1585152240000,\"end_time\":1585152299000},{\"heart_rate\":97.0,\"heart_rate_max\":103.0,\"heart_rate_min\":92.0,\"start_time\":1585152300000,\"end_time\":1585152359000},{\"heart_rate\":83.0,\"heart_rate_max\":94.0,\"heart_rate_min\":77.0,\"start_time\":1585152360000,\"end_time\":1585152419000},{\"heart_rate\":83.0,\"heart_rate_max\":89.0,\"heart_rate_min\":76.0,\"start_time\":1585152420000,\"end_time\":1585152479000},{\"heart_rate\":83.0,\"heart_rate_max\":86.0,\"heart_rate_min\":79.0,\"start_time\":1585152480000,\"end_time\":1585152539000},{\"heart_rate\":83.0,\"heart_rate_max\":87.0,\"heart_rate_min\":79.0,\"start_time\":1585152540000,\"end_time\":1585152599000},{\"heart_rate\":66.0,\"heart_rate_max\":78.0,\"heart_rate_min\":60.0,\"start_time\":1585152600000,\"end_time\":1585152659000},{\"heart_rate\":68.0,\"heart_rate_max\":73.0,\"heart_rate_min\":66.0,\"start_time\":1585152660000,\"end_time\":1585152719000},{\"heart_rate\":73.0,\"heart_rate_max\":82.0,\"heart_rate_min\":65.0,\"start_time\":1585152720000,\"end_time\":1585152779000},{\"heart_rate\":62.0,\"heart_rate_max\":71.0,\"heart_rate_min\":56.0,\"start_time\":1585152780000,\"end_time\":1585152839000},{\"heart_rate\":58.0,\"heart_rate_max\":61.0,\"heart_rate_min\":54.0,\"start_time\":1585152840000,\"end_time\":1585152899000},{\"heart_rate\":61.0,\"heart_rate_max\":66.0,\"heart_rate_min\":57.0,\"start_time\":1585152900000,\"end_time\":1585152959000},{\"heart_rate\":56.0,\"heart_rate_max\":62.0,\"heart_rate_min\":53.0,\"start_time\":1585152960000,\"end_time\":1585153019000},{\"heart_rate\":56.0,\"heart_rate_max\":59.0,\"heart_rate_min\":54.0,\"start_time\":1585153020000,\"end_time\":1585153079000},{\"heart_rate\":63.0,\"heart_rate_max\":75.0,\"heart_rate_min\":56.0,\"start_time\":1585153080000,\"end_time\":1585153139000},{\"heart_rate\":76.0,\"heart_rate_max\":83.0,\"heart_rate_min\":68.0,\"start_time\":1585153140000,\"end_time\":1585153199000},{\"heart_rate\":80.0,\"heart_rate_max\":83.0,\"heart_rate_min\":79.0,\"start_time\":1585153200000,\"end_time\":1585153259000},{\"heart_rate\":80.0,\"heart_rate_max\":83.0,\"heart_rate_min\":78.0,\"start_time\":1585153260000,\"end_time\":1585153319000},{\"heart_rate\":81.0,\"heart_rate_max\":87.0,\"heart_rate_min\":78.0,\"start_time\":1585153320000,\"end_time\":1585153379000},{\"heart_rate\":85.0,\"heart_rate_max\":92.0,\"heart_rate_min\":78.0,\"start_time\":1585153380000,\"end_time\":1585153439000},{\"heart_rate\":84.0,\"heart_rate_max\":89.0,\"heart_rate_min\":79.0,\"start_time\":1585153440000,\"end_time\":1585153499000},{\"heart_rate\":85.0,\"heart_rate_max\":92.0,\"heart_rate_min\":80.0,\"start_time\":1585153500000,\"end_time\":1585153559000},{\"heart_rate\":87.0,\"heart_rate_max\":93.0,\"heart_rate_min\":82.0,\"start_time\":1585153560000,\"end_time\":1585153619000},{\"heart_rate\":99.0,\"heart_rate_max\":104.0,\"heart_rate_min\":96.0,\"start_time\":1585153620000,\"end_time\":1585153679000},{\"heart_rate\":104.0,\"heart_rate_max\":107.0,\"heart_rate_min\":100.0,\"start_time\":1585153680000,\"end_time\":1585153739000},{\"heart_rate\":105.0,\"heart_rate_max\":113.0,\"heart_rate_min\":98.0,\"start_time\":1585153740000,\"end_time\":1585153799000},{\"heart_rate\":101.0,\"heart_rate_max\":106.0,\"heart_rate_min\":95.0,\"start_time\":1585153800000,\"end_time\":1585153859000},{\"heart_rate\":107.0,\"heart_rate_max\":112.0,\"heart_rate_min\":104.0,\"start_time\":1585153860000,\"end_time\":1585153919000},{\"heart_rate\":115.0,\"heart_rate_max\":116.0,\"heart_rate_min\":114.0,\"start_time\":1585153920000,\"end_time\":1585153979000},{\"heart_rate\":114.0,\"heart_rate_max\":117.0,\"heart_rate_min\":112.0,\"start_time\":1585153980000,\"end_time\":1585154039000},{\"heart_rate\":65.0,\"heart_rate_max\":113.0,\"heart_rate_min\":57.0,\"start_time\":1585154040000,\"end_time\":1585154099000},{\"heart_rate\":62.0,\"heart_rate_max\":66.0,\"heart_rate_min\":57.0,\"start_time\":1585154100000,\"end_time\":1585154159000},{\"heart_rate\":60.0,\"heart_rate_max\":64.0,\"heart_rate_min\":55.0,\"start_time\":1585154160000,\"end_time\":1585154219000},{\"heart_rate\":64.0,\"heart_rate_max\":76.0,\"heart_rate_min\":58.0,\"start_time\":1585154220000,\"end_time\":1585154279000},{\"heart_rate\":67.0,\"heart_rate_max\":75.0,\"heart_rate_min\":61.0,\"start_time\":1585154280000,\"end_time\":1585154339000},{\"heart_rate\":66.0,\"heart_rate_max\":74.0,\"heart_rate_min\":61.0,\"start_time\":1585154340000,\"end_time\":1585154399000},{\"heart_rate\":68.0,\"heart_rate_max\":72.0,\"heart_rate_min\":62.0,\"start_time\":1585154400000,\"end_time\":1585154459000},{\"heart_rate\":70.0,\"heart_rate_max\":75.0,\"heart_rate_min\":67.0,\"start_time\":1585154460000,\"end_time\":1585154519000},{\"heart_rate\":66.0,\"heart_rate_max\":78.0,\"heart_rate_min\":60.0,\"start_time\":1585154520000,\"end_time\":1585154579000},{\"heart_rate\":77.0,\"heart_rate_max\":82.0,\"heart_rate_min\":71.0,\"start_time\":1585154580000,\"end_time\":1585154639000},{\"heart_rate\":73.0,\"heart_rate_max\":81.0,\"heart_rate_min\":67.0,\"start_time\":1585154640000,\"end_time\":1585154699000},{\"heart_rate\":72.0,\"heart_rate_max\":80.0,\"heart_rate_min\":63.0,\"start_time\":1585154700000,\"end_time\":1585154759000},{\"heart_rate\":62.0,\"heart_rate_max\":67.0,\"heart_rate_min\":58.0,\"start_time\":1585154760000,\"end_time\":1585154819000},{\"heart_rate\":62.0,\"heart_rate_max\":66.0,\"heart_rate_min\":59.0,\"start_time\":1585154820000,\"end_time\":1585154879000},{\"heart_rate\":65.0,\"heart_rate_max\":69.0,\"heart_rate_min\":64.0,\"start_time\":1585154880000,\"end_time\":1585154939000},{\"heart_rate\":65.0,\"heart_rate_max\":70.0,\"heart_rate_min\":61.0,\"start_time\":1585154940000,\"end_time\":1585154999000},{\"heart_rate\":66.0,\"heart_rate_max\":70.0,\"heart_rate_min\":63.0,\"start_time\":1585155000000,\"end_time\":1585155059000},{\"heart_rate\":72.0,\"heart_rate_max\":79.0,\"heart_rate_min\":63.0,\"start_time\":1585155060000,\"end_time\":1585155119000},{\"heart_rate\":64.0,\"heart_rate_max\":69.0,\"heart_rate_min\":62.0,\"start_time\":1585155120000,\"end_time\":1585155179000},{\"heart_rate\":72.0,\"heart_rate_max\":84.0,\"heart_rate_min\":64.0,\"start_time\":1585155180000,\"end_time\":1585155239000},{\"heart_rate\":73.0,\"heart_rate_max\":80.0,\"heart_rate_min\":67.0,\"start_time\":1585155240000,\"end_time\":1585155299000},{\"heart_rate\":81.0,\"heart_rate_max\":88.0,\"heart_rate_min\":71.0,\"start_time\":1585155300000,\"end_time\":1585155359000},{\"heart_rate\":84.0,\"heart_rate_max\":87.0,\"heart_rate_min\":82.0,\"start_time\":1585155360000,\"end_time\":1585155419000},{\"heart_rate\":70.0,\"heart_rate_max\":86.0,\"heart_rate_min\":57.0,\"start_time\":1585155420000,\"end_time\":1585155479000},{\"heart_rate\":63.0,\"heart_rate_max\":70.0,\"heart_rate_min\":60.0,\"start_time\":1585155480000,\"end_time\":1585155539000},{\"heart_rate\":60.0,\"heart_rate_max\":64.0,\"heart_rate_min\":59.0,\"start_time\":1585155540000,\"end_time\":1585155599000}][{\"heart_rate\":101.0,\"heart_rate_max\":103.0,\"heart_rate_min\":100.0,\"start_time\":1564725600000,\"end_time\":1564725659000},{\"heart_rate\":109.0,\"heart_rate_max\":115.0,\"heart_rate_min\":102.0,\"start_time\":1564725660000,\"end_time\":1564725719000},{\"heart_rate\":121.0,\"heart_rate_max\":127.0,\"heart_rate_min\":111.0,\"start_time\":1564725720000,\"end_time\":1564725779000},{\"heart_rate\":122.0,\"heart_rate_max\":125.0,\"heart_rate_min\":119.0,\"start_time\":1564725780000,\"end_time\":1564725839000},{\"heart_rate\":89.0,\"heart_rate_max\":127.0,\"heart_rate_min\":61.0,\"start_time\":1564725840000,\"end_time\":1564725899000},{\"heart_rate\":65.0,\"heart_rate_max\":72.0,\"heart_rate_min\":55.0,\"start_time\":1564725900000,\"end_time\":1564725959000},{\"heart_rate\":60.0,\"heart_rate_max\":64.0,\"heart_rate_min\":58.0,\"start_time\":1564725960000,\"end_time\":1564726019000},{\"heart_rate\":63.0,\"heart_rate_max\":70.0,\"heart_rate_min\":57.0,\"start_time\":1564726020000,\"end_time\":1564726079000},{\"heart_rate\":61.0,\"heart_rate_max\":65.0,\"heart_rate_min\":58.0,\"start_time\":1564726080000,\"end_time\":1564726139000},{\"heart_rate\":67.0,\"heart_rate_max\":85.0,\"heart_rate_min\":59.0,\"start_time\":1564726140000,\"end_time\":1564726199000},{\"heart_rate\":99.0,\"heart_rate_max\":116.0,\"heart_rate_min\":84.0,\"start_time\":1564726200000,\"end_time\":1564726259000},{\"heart_rate\":112.0,\"heart_rate_max\":117.0,\"heart_rate_min\":106.0,\"start_time\":1564726260000,\"end_time\":1564726319000},{\"heart_rate\":82.0,\"heart_rate_max\":119.0,\"heart_rate_min\":57.0,\"start_time\":1564726320000,\"end_time\":1564726379000},{\"heart_rate\":65.0,\"heart_rate_max\":68.0,\"heart_rate_min\":64.0,\"start_time\":1564726380000,\"end_time\":1564726439000},{\"heart_rate\":63.0,\"heart_rate_max\":70.0,\"heart_rate_min\":60.0,\"start_time\":1564726440000,\"end_time\":1564726499000},{\"heart_rate\":61.0,\"heart_rate_max\":64.0,\"heart_rate_min\":58.0,\"start_time\":1564726500000,\"end_time\":1564726559000},{\"heart_rate\":74.0,\"heart_rate_max\":95.0,\"heart_rate_min\":63.0,\"start_time\":1564726560000,\"end_time\":1564726619000},{\"heart_rate\":89.0,\"heart_rate_max\":96.0,\"heart_rate_min\":71.0,\"start_time\":1564726620000,\"end_time\":1564726679000},{\"heart_rate\":64.0,\"heart_rate_max\":74.0,\"heart_rate_min\":58.0,\"start_time\":1564726680000,\"end_time\":1564726739000},{\"heart_rate\":77.0,\"heart_rate_max\":88.0,\"heart_rate_min\":62.0,\"start_time\":1564726740000,\"end_time\":1564726799000},{\"heart_rate\":89.0,\"heart_rate_max\":96.0,\"heart_rate_min\":81.0,\"start_time\":1564726800000,\"end_time\":1564726859000},{\"heart_rate\":89.0,\"heart_rate_max\":101.0,\"heart_rate_min\":71.0,\"start_time\":1564726860000,\"end_time\":1564726919000},{\"heart_rate\":68.0,\"heart_rate_max\":97.0,\"heart_rate_min\":58.0,\"start_time\":1564726920000,\"end_time\":1564726979000},{\"heart_rate\":67.0,\"heart_rate_max\":72.0,\"heart_rate_min\":64.0,\"start_time\":1564726980000,\"end_time\":1564727039000},{\"heart_rate\":79.0,\"heart_rate_max\":90.0,\"heart_rate_min\":73.0,\"start_time\":1564727040000,\"end_time\":1564727099000},{\"heart_rate\":97.0,\"heart_rate_max\":105.0,\"heart_rate_min\":92.0,\"start_time\":1564727100000,\"end_time\":1564727159000},{\"heart_rate\":102.0,\"heart_rate_max\":107.0,\"heart_rate_min\":101.0,\"start_time\":1564727160000,\"end_time\":1564727219000},{\"heart_rate\":101.0,\"heart_rate_max\":106.0,\"heart_rate_min\":98.0,\"start_time\":1564727220000,\"end_time\":1564727279000},{\"heart_rate\":112.0,\"heart_rate_max\":117.0,\"heart_rate_min\":104.0,\"start_time\":1564727280000,\"end_time\":1564727339000},{\"heart_rate\":119.0,\"heart_rate_max\":120.0,\"heart_rate_min\":117.0,\"start_time\":1564727340000,\"end_time\":1564727399000},{\"heart_rate\":77.0,\"heart_rate_max\":106.0,\"heart_rate_min\":68.0,\"start_time\":1564727520000,\"end_time\":1564727579000},{\"heart_rate\":61.0,\"heart_rate_max\":79.0,\"heart_rate_min\":56.0,\"start_time\":1564727580000,\"end_time\":1564727639000},{\"heart_rate\":60.0,\"heart_rate_max\":63.0,\"heart_rate_min\":56.0,\"start_time\":1564727640000,\"end_time\":1564727699000},{\"heart_rate\":59.0,\"heart_rate_max\":63.0,\"heart_rate_min\":56.0,\"start_time\":1564727700000,\"end_time\":1564727759000},{\"heart_rate\":60.0,\"heart_rate_max\":64.0,\"heart_rate_min\":59.0,\"start_time\":1564727760000,\"end_time\":1564727819000},{\"heart_rate\":62.0,\"heart_rate_max\":66.0,\"heart_rate_min\":61.0,\"start_time\":1564727820000,\"end_time\":1564727879000},{\"heart_rate\":68.0,\"heart_rate_max\":82.0,\"heart_rate_min\":58.0,\"start_time\":1564727880000,\"end_time\":1564727939000},{\"heart_rate\":59.0,\"heart_rate_max\":62.0,\"heart_rate_min\":57.0,\"start_time\":1564727940000,\"end_time\":1564727999000},{\"heart_rate\":66.0,\"heart_rate_max\":81.0,\"heart_rate_min\":60.0,\"start_time\":1564728000000,\"end_time\":1564728059000},{\"heart_rate\":65.0,\"heart_rate_max\":77.0,\"heart_rate_min\":59.0,\"start_time\":1564728060000,\"end_time\":1564728119000},{\"heart_rate\":78.0,\"heart_rate_max\":90.0,\"heart_rate_min\":64.0,\"start_time\":1564728120000,\"end_time\":1564728179000},{\"heart_rate\":84.0,\"heart_rate_max\":101.0,\"heart_rate_min\":60.0,\"start_time\":1564728180000,\"end_time\":1564728239000},{\"heart_rate\":59.0,\"heart_rate_max\":62.0,\"heart_rate_min\":57.0,\"start_time\":1564728240000,\"end_time\":1564728299000},{\"heart_rate\":59.0,\"heart_rate_max\":62.0,\"heart_rate_min\":58.0,\"start_time\":1564728300000,\"end_time\":1564728359000},{\"heart_rate\":59.0,\"heart_rate_max\":66.0,\"heart_rate_min\":56.0,\"start_time\":1564728360000,\"end_time\":1564728419000},{\"heart_rate\":58.0,\"heart_rate_max\":61.0,\"heart_rate_min\":57.0,\"start_time\":1564728420000,\"end_time\":1564728479000},{\"heart_rate\":58.0,\"heart_rate_max\":62.0,\"heart_rate_min\":56.0,\"start_time\":1564728480000,\"end_time\":1564728539000},{\"heart_rate\":61.0,\"heart_rate_max\":63.0,\"heart_rate_min\":61.0,\"start_time\":1564728540000,\"end_time\":1564728599000},{\"heart_rate\":65.0,\"heart_rate_max\":73.0,\"heart_rate_min\":62.0,\"start_time\":1564728600000,\"end_time\":1564728659000},{\"heart_rate\":64.0,\"heart_rate_max\":71.0,\"heart_rate_min\":56.0,\"start_time\":1564728660000,\"end_time\":1564728719000},{\"heart_rate\":63.0,\"heart_rate_max\":72.0,\"heart_rate_min\":60.0,\"start_time\":1564728720000,\"end_time\":1564728779000},{\"heart_rate\":61.0,\"heart_rate_max\":67.0,\"heart_rate_min\":56.0,\"start_time\":1564728780000,\"end_time\":1564728839000},{\"heart_rate\":59.0,\"heart_rate_max\":67.0,\"heart_rate_min\":56.0,\"start_time\":1564728840000,\"end_time\":1564728899000},{\"heart_rate\":75.0,\"heart_rate_max\":88.0,\"heart_rate_min\":61.0,\"start_time\":1564728900000,\"end_time\":1564728959000},{\"heart_rate\":76.0,\"heart_rate_max\":90.0,\"heart_rate_min\":69.0,\"start_time\":1564728960000,\"end_time\":1564729019000},{\"heart_rate\":80.0,\"heart_rate_max\":91.0,\"heart_rate_min\":71.0,\"start_time\":1564729020000,\"end_time\":1564729079000},{\"heart_rate\":86.0,\"heart_rate_max\":93.0,\"heart_rate_min\":80.0,\"start_time\":1564729080000,\"end_time\":1564729139000},{\"heart_rate\":68.0,\"heart_rate_max\":84.0,\"heart_rate_min\":60.0,\"start_time\":1564729140000,\"end_time\":1564729199000}]'\n",
        "#json.loads(jsonDeDos)\n",
        "#asd = pd.read_json(jsonDeDos)\n",
        "'''no jalo porque es demasiado cumbersome validar jsons manualmente'''"
      ],
      "execution_count": null,
      "outputs": []
    },
    {
      "cell_type": "code",
      "metadata": {
        "id": "sBWUpDA9H6j4",
        "colab_type": "code",
        "colab": {
          "base_uri": "https://localhost:8080/",
          "height": 231
        },
        "outputId": "22a70694-885b-4e73-add3-482842e57d08"
      },
      "source": [
        "'''intento de concatenar dataframes'''\n",
        "otroDia = '[{\"heart_rate\":58.0,\"heart_rate_max\":61.0,\"heart_rate_min\":57.0,\"start_time\":1578502800000,\"end_time\":1578502859000},{\"heart_rate\":59.0,\"heart_rate_max\":62.0,\"heart_rate_min\":58.0,\"start_time\":1578502860000,\"end_time\":1578502919000},{\"heart_rate\":59.0,\"heart_rate_max\":64.0,\"heart_rate_min\":58.0,\"start_time\":1578502920000,\"end_time\":1578502979000},{\"heart_rate\":63.0,\"heart_rate_max\":73.0,\"heart_rate_min\":59.0,\"start_time\":1578502980000,\"end_time\":1578503039000},{\"heart_rate\":52.0,\"heart_rate_max\":55.0,\"heart_rate_min\":51.0,\"start_time\":1578503040000,\"end_time\":1578503099000},{\"heart_rate\":53.0,\"heart_rate_max\":55.0,\"heart_rate_min\":51.0,\"start_time\":1578503100000,\"end_time\":1578503159000},{\"heart_rate\":54.0,\"heart_rate_max\":56.0,\"heart_rate_min\":52.0,\"start_time\":1578503160000,\"end_time\":1578503219000},{\"heart_rate\":54.0,\"heart_rate_max\":56.0,\"heart_rate_min\":53.0,\"start_time\":1578503220000,\"end_time\":1578503279000},{\"heart_rate\":54.0,\"heart_rate_max\":57.0,\"heart_rate_min\":53.0,\"start_time\":1578503280000,\"end_time\":1578503339000},{\"heart_rate\":56.0,\"heart_rate_max\":58.0,\"heart_rate_min\":54.0,\"start_time\":1578503340000,\"end_time\":1578503399000},{\"heart_rate\":58.0,\"heart_rate_max\":61.0,\"heart_rate_min\":55.0,\"start_time\":1578503400000,\"end_time\":1578503459000},{\"heart_rate\":58.0,\"heart_rate_max\":61.0,\"heart_rate_min\":57.0,\"start_time\":1578503460000,\"end_time\":1578503519000},{\"heart_rate\":60.0,\"heart_rate_max\":64.0,\"heart_rate_min\":58.0,\"start_time\":1578503520000,\"end_time\":1578503579000},{\"heart_rate\":60.0,\"heart_rate_max\":63.0,\"heart_rate_min\":57.0,\"start_time\":1578503580000,\"end_time\":1578503639000},{\"heart_rate\":53.0,\"heart_rate_max\":58.0,\"heart_rate_min\":50.0,\"start_time\":1578503640000,\"end_time\":1578503699000},{\"heart_rate\":55.0,\"heart_rate_max\":58.0,\"heart_rate_min\":52.0,\"start_time\":1578503700000,\"end_time\":1578503759000},{\"heart_rate\":57.0,\"heart_rate_max\":61.0,\"heart_rate_min\":54.0,\"start_time\":1578503760000,\"end_time\":1578503819000},{\"heart_rate\":57.0,\"heart_rate_max\":63.0,\"heart_rate_min\":55.0,\"start_time\":1578503820000,\"end_time\":1578503879000},{\"heart_rate\":55.0,\"heart_rate_max\":66.0,\"heart_rate_min\":50.0,\"start_time\":1578503880000,\"end_time\":1578503939000},{\"heart_rate\":53.0,\"heart_rate_max\":56.0,\"heart_rate_min\":50.0,\"start_time\":1578503940000,\"end_time\":1578503999000},{\"heart_rate\":54.0,\"heart_rate_max\":59.0,\"heart_rate_min\":49.0,\"start_time\":1578504000000,\"end_time\":1578504059000},{\"heart_rate\":56.0,\"heart_rate_max\":58.0,\"heart_rate_min\":54.0,\"start_time\":1578504060000,\"end_time\":1578504119000},{\"heart_rate\":55.0,\"heart_rate_max\":58.0,\"heart_rate_min\":53.0,\"start_time\":1578504120000,\"end_time\":1578504179000},{\"heart_rate\":56.0,\"heart_rate_max\":59.0,\"heart_rate_min\":54.0,\"start_time\":1578504180000,\"end_time\":1578504239000},{\"heart_rate\":57.0,\"heart_rate_max\":60.0,\"heart_rate_min\":55.0,\"start_time\":1578504240000,\"end_time\":1578504299000},{\"heart_rate\":58.0,\"heart_rate_max\":61.0,\"heart_rate_min\":56.0,\"start_time\":1578504300000,\"end_time\":1578504359000},{\"heart_rate\":60.0,\"heart_rate_max\":77.0,\"heart_rate_min\":50.0,\"start_time\":1578504360000,\"end_time\":1578504419000},{\"heart_rate\":54.0,\"heart_rate_max\":57.0,\"heart_rate_min\":50.0,\"start_time\":1578504420000,\"end_time\":1578504479000},{\"heart_rate\":56.0,\"heart_rate_max\":61.0,\"heart_rate_min\":53.0,\"start_time\":1578504480000,\"end_time\":1578504539000},{\"heart_rate\":55.0,\"heart_rate_max\":59.0,\"heart_rate_min\":52.0,\"start_time\":1578504540000,\"end_time\":1578504599000},{\"heart_rate\":55.0,\"heart_rate_max\":57.0,\"heart_rate_min\":54.0,\"start_time\":1578504600000,\"end_time\":1578504659000},{\"heart_rate\":57.0,\"heart_rate_max\":63.0,\"heart_rate_min\":54.0,\"start_time\":1578504660000,\"end_time\":1578504719000},{\"heart_rate\":57.0,\"heart_rate_max\":60.0,\"heart_rate_min\":55.0,\"start_time\":1578504720000,\"end_time\":1578504779000},{\"heart_rate\":56.0,\"heart_rate_max\":59.0,\"heart_rate_min\":54.0,\"start_time\":1578504780000,\"end_time\":1578504839000},{\"heart_rate\":57.0,\"heart_rate_max\":62.0,\"heart_rate_min\":51.0,\"start_time\":1578504840000,\"end_time\":1578504899000},{\"heart_rate\":50.0,\"heart_rate_max\":55.0,\"heart_rate_min\":47.0,\"start_time\":1578504900000,\"end_time\":1578504959000},{\"heart_rate\":52.0,\"heart_rate_max\":56.0,\"heart_rate_min\":50.0,\"start_time\":1578504960000,\"end_time\":1578505019000},{\"heart_rate\":56.0,\"heart_rate_max\":61.0,\"heart_rate_min\":51.0,\"start_time\":1578505020000,\"end_time\":1578505079000},{\"heart_rate\":58.0,\"heart_rate_max\":62.0,\"heart_rate_min\":54.0,\"start_time\":1578505080000,\"end_time\":1578505139000},{\"heart_rate\":55.0,\"heart_rate_max\":60.0,\"heart_rate_min\":52.0,\"start_time\":1578505140000,\"end_time\":1578505199000},{\"heart_rate\":60.0,\"heart_rate_max\":64.0,\"heart_rate_min\":57.0,\"start_time\":1578505200000,\"end_time\":1578505259000},{\"heart_rate\":58.0,\"heart_rate_max\":62.0,\"heart_rate_min\":56.0,\"start_time\":1578505260000,\"end_time\":1578505319000},{\"heart_rate\":58.0,\"heart_rate_max\":60.0,\"heart_rate_min\":57.0,\"start_time\":1578505320000,\"end_time\":1578505379000},{\"heart_rate\":61.0,\"heart_rate_max\":68.0,\"heart_rate_min\":59.0,\"start_time\":1578505380000,\"end_time\":1578505439000},{\"heart_rate\":59.0,\"heart_rate_max\":64.0,\"heart_rate_min\":53.0,\"start_time\":1578505440000,\"end_time\":1578505499000},{\"heart_rate\":62.0,\"heart_rate_max\":78.0,\"heart_rate_min\":52.0,\"start_time\":1578505500000,\"end_time\":1578505559000},{\"heart_rate\":71.0,\"heart_rate_max\":78.0,\"heart_rate_min\":66.0,\"start_time\":1578505560000,\"end_time\":1578505619000},{\"heart_rate\":66.0,\"heart_rate_max\":74.0,\"heart_rate_min\":61.0,\"start_time\":1578505620000,\"end_time\":1578505679000},{\"heart_rate\":61.0,\"heart_rate_max\":63.0,\"heart_rate_min\":58.0,\"start_time\":1578505680000,\"end_time\":1578505739000},{\"heart_rate\":60.0,\"heart_rate_max\":62.0,\"heart_rate_min\":58.0,\"start_time\":1578505740000,\"end_time\":1578505799000},{\"heart_rate\":62.0,\"heart_rate_max\":66.0,\"heart_rate_min\":61.0,\"start_time\":1578505800000,\"end_time\":1578505859000},{\"heart_rate\":58.0,\"heart_rate_max\":62.0,\"heart_rate_min\":55.0,\"start_time\":1578505860000,\"end_time\":1578505919000},{\"heart_rate\":57.0,\"heart_rate_max\":62.0,\"heart_rate_min\":55.0,\"start_time\":1578505920000,\"end_time\":1578505979000},{\"heart_rate\":61.0,\"heart_rate_max\":69.0,\"heart_rate_min\":58.0,\"start_time\":1578505980000,\"end_time\":1578506039000},{\"heart_rate\":62.0,\"heart_rate_max\":70.0,\"heart_rate_min\":58.0,\"start_time\":1578506040000,\"end_time\":1578506099000},{\"heart_rate\":63.0,\"heart_rate_max\":68.0,\"heart_rate_min\":58.0,\"start_time\":1578506100000,\"end_time\":1578506159000},{\"heart_rate\":67.0,\"heart_rate_max\":85.0,\"heart_rate_min\":51.0,\"start_time\":1578506160000,\"end_time\":1578506219000},{\"heart_rate\":54.0,\"heart_rate_max\":59.0,\"heart_rate_min\":50.0,\"start_time\":1578506220000,\"end_time\":1578506279000},{\"heart_rate\":56.0,\"heart_rate_max\":61.0,\"heart_rate_min\":53.0,\"start_time\":1578506280000,\"end_time\":1578506339000},{\"heart_rate\":55.0,\"heart_rate_max\":60.0,\"heart_rate_min\":52.0,\"start_time\":1578506340000,\"end_time\":1578506399000}]'\n",
        "json.loads(otroDia)\n",
        "enero8_5PM=pd.read_json(otroDia)\n",
        "enero8_5PM.head(5)  #instanciacion de otro dia que concatenar, no se cuales archivos podria concatenar ni en que orden podria sortear las files para que la concatenacion qeude de forma cronologica\n",
        "\n",
        "#actual concatenacion\n",
        "dosDias=[enero8_5PM, abril25_4PM]\n",
        "result = pd.concat(dosDias)\n",
        "print(result)\n",
        "result.plot(x='start_time', y='heart_rate')\n",
        "#jalo, bien ahi"
      ],
      "execution_count": null,
      "outputs": [
        {
          "output_type": "error",
          "ename": "NameError",
          "evalue": "ignored",
          "traceback": [
            "\u001b[0;31m---------------------------------------------------------------------------\u001b[0m",
            "\u001b[0;31mNameError\u001b[0m                                 Traceback (most recent call last)",
            "\u001b[0;32m<ipython-input-35-38482d14ae31>\u001b[0m in \u001b[0;36m<module>\u001b[0;34m()\u001b[0m\n\u001b[1;32m      6\u001b[0m \u001b[0;34m\u001b[0m\u001b[0m\n\u001b[1;32m      7\u001b[0m \u001b[0;31m#actual concatenacion\u001b[0m\u001b[0;34m\u001b[0m\u001b[0;34m\u001b[0m\u001b[0;34m\u001b[0m\u001b[0m\n\u001b[0;32m----> 8\u001b[0;31m \u001b[0mdosDias\u001b[0m\u001b[0;34m=\u001b[0m\u001b[0;34m[\u001b[0m\u001b[0menero8_5PM\u001b[0m\u001b[0;34m,\u001b[0m \u001b[0mabril25_4PM\u001b[0m\u001b[0;34m]\u001b[0m\u001b[0;34m\u001b[0m\u001b[0;34m\u001b[0m\u001b[0m\n\u001b[0m\u001b[1;32m      9\u001b[0m \u001b[0mresult\u001b[0m \u001b[0;34m=\u001b[0m \u001b[0mpd\u001b[0m\u001b[0;34m.\u001b[0m\u001b[0mconcat\u001b[0m\u001b[0;34m(\u001b[0m\u001b[0mdosDias\u001b[0m\u001b[0;34m)\u001b[0m\u001b[0;34m\u001b[0m\u001b[0;34m\u001b[0m\u001b[0m\n\u001b[1;32m     10\u001b[0m \u001b[0mprint\u001b[0m\u001b[0;34m(\u001b[0m\u001b[0mresult\u001b[0m\u001b[0;34m)\u001b[0m\u001b[0;34m\u001b[0m\u001b[0;34m\u001b[0m\u001b[0m\n",
            "\u001b[0;31mNameError\u001b[0m: name 'abril25_4PM' is not defined"
          ]
        }
      ]
    },
    {
      "cell_type": "code",
      "metadata": {
        "id": "jTFDL0afMT62",
        "colab_type": "code",
        "colab": {
          "resources": {
            "http://localhost:8080/nbextensions/google.colab/files.js": {
              "data": "Ly8gQ29weXJpZ2h0IDIwMTcgR29vZ2xlIExMQwovLwovLyBMaWNlbnNlZCB1bmRlciB0aGUgQXBhY2hlIExpY2Vuc2UsIFZlcnNpb24gMi4wICh0aGUgIkxpY2Vuc2UiKTsKLy8geW91IG1heSBub3QgdXNlIHRoaXMgZmlsZSBleGNlcHQgaW4gY29tcGxpYW5jZSB3aXRoIHRoZSBMaWNlbnNlLgovLyBZb3UgbWF5IG9idGFpbiBhIGNvcHkgb2YgdGhlIExpY2Vuc2UgYXQKLy8KLy8gICAgICBodHRwOi8vd3d3LmFwYWNoZS5vcmcvbGljZW5zZXMvTElDRU5TRS0yLjAKLy8KLy8gVW5sZXNzIHJlcXVpcmVkIGJ5IGFwcGxpY2FibGUgbGF3IG9yIGFncmVlZCB0byBpbiB3cml0aW5nLCBzb2Z0d2FyZQovLyBkaXN0cmlidXRlZCB1bmRlciB0aGUgTGljZW5zZSBpcyBkaXN0cmlidXRlZCBvbiBhbiAiQVMgSVMiIEJBU0lTLAovLyBXSVRIT1VUIFdBUlJBTlRJRVMgT1IgQ09ORElUSU9OUyBPRiBBTlkgS0lORCwgZWl0aGVyIGV4cHJlc3Mgb3IgaW1wbGllZC4KLy8gU2VlIHRoZSBMaWNlbnNlIGZvciB0aGUgc3BlY2lmaWMgbGFuZ3VhZ2UgZ292ZXJuaW5nIHBlcm1pc3Npb25zIGFuZAovLyBsaW1pdGF0aW9ucyB1bmRlciB0aGUgTGljZW5zZS4KCi8qKgogKiBAZmlsZW92ZXJ2aWV3IEhlbHBlcnMgZm9yIGdvb2dsZS5jb2xhYiBQeXRob24gbW9kdWxlLgogKi8KKGZ1bmN0aW9uKHNjb3BlKSB7CmZ1bmN0aW9uIHNwYW4odGV4dCwgc3R5bGVBdHRyaWJ1dGVzID0ge30pIHsKICBjb25zdCBlbGVtZW50ID0gZG9jdW1lbnQuY3JlYXRlRWxlbWVudCgnc3BhbicpOwogIGVsZW1lbnQudGV4dENvbnRlbnQgPSB0ZXh0OwogIGZvciAoY29uc3Qga2V5IG9mIE9iamVjdC5rZXlzKHN0eWxlQXR0cmlidXRlcykpIHsKICAgIGVsZW1lbnQuc3R5bGVba2V5XSA9IHN0eWxlQXR0cmlidXRlc1trZXldOwogIH0KICByZXR1cm4gZWxlbWVudDsKfQoKLy8gTWF4IG51bWJlciBvZiBieXRlcyB3aGljaCB3aWxsIGJlIHVwbG9hZGVkIGF0IGEgdGltZS4KY29uc3QgTUFYX1BBWUxPQURfU0laRSA9IDEwMCAqIDEwMjQ7CgpmdW5jdGlvbiBfdXBsb2FkRmlsZXMoaW5wdXRJZCwgb3V0cHV0SWQpIHsKICBjb25zdCBzdGVwcyA9IHVwbG9hZEZpbGVzU3RlcChpbnB1dElkLCBvdXRwdXRJZCk7CiAgY29uc3Qgb3V0cHV0RWxlbWVudCA9IGRvY3VtZW50LmdldEVsZW1lbnRCeUlkKG91dHB1dElkKTsKICAvLyBDYWNoZSBzdGVwcyBvbiB0aGUgb3V0cHV0RWxlbWVudCB0byBtYWtlIGl0IGF2YWlsYWJsZSBmb3IgdGhlIG5leHQgY2FsbAogIC8vIHRvIHVwbG9hZEZpbGVzQ29udGludWUgZnJvbSBQeXRob24uCiAgb3V0cHV0RWxlbWVudC5zdGVwcyA9IHN0ZXBzOwoKICByZXR1cm4gX3VwbG9hZEZpbGVzQ29udGludWUob3V0cHV0SWQpOwp9CgovLyBUaGlzIGlzIHJvdWdobHkgYW4gYXN5bmMgZ2VuZXJhdG9yIChub3Qgc3VwcG9ydGVkIGluIHRoZSBicm93c2VyIHlldCksCi8vIHdoZXJlIHRoZXJlIGFyZSBtdWx0aXBsZSBhc3luY2hyb25vdXMgc3RlcHMgYW5kIHRoZSBQeXRob24gc2lkZSBpcyBnb2luZwovLyB0byBwb2xsIGZvciBjb21wbGV0aW9uIG9mIGVhY2ggc3RlcC4KLy8gVGhpcyB1c2VzIGEgUHJvbWlzZSB0byBibG9jayB0aGUgcHl0aG9uIHNpZGUgb24gY29tcGxldGlvbiBvZiBlYWNoIHN0ZXAsCi8vIHRoZW4gcGFzc2VzIHRoZSByZXN1bHQgb2YgdGhlIHByZXZpb3VzIHN0ZXAgYXMgdGhlIGlucHV0IHRvIHRoZSBuZXh0IHN0ZXAuCmZ1bmN0aW9uIF91cGxvYWRGaWxlc0NvbnRpbnVlKG91dHB1dElkKSB7CiAgY29uc3Qgb3V0cHV0RWxlbWVudCA9IGRvY3VtZW50LmdldEVsZW1lbnRCeUlkKG91dHB1dElkKTsKICBjb25zdCBzdGVwcyA9IG91dHB1dEVsZW1lbnQuc3RlcHM7CgogIGNvbnN0IG5leHQgPSBzdGVwcy5uZXh0KG91dHB1dEVsZW1lbnQubGFzdFByb21pc2VWYWx1ZSk7CiAgcmV0dXJuIFByb21pc2UucmVzb2x2ZShuZXh0LnZhbHVlLnByb21pc2UpLnRoZW4oKHZhbHVlKSA9PiB7CiAgICAvLyBDYWNoZSB0aGUgbGFzdCBwcm9taXNlIHZhbHVlIHRvIG1ha2UgaXQgYXZhaWxhYmxlIHRvIHRoZSBuZXh0CiAgICAvLyBzdGVwIG9mIHRoZSBnZW5lcmF0b3IuCiAgICBvdXRwdXRFbGVtZW50Lmxhc3RQcm9taXNlVmFsdWUgPSB2YWx1ZTsKICAgIHJldHVybiBuZXh0LnZhbHVlLnJlc3BvbnNlOwogIH0pOwp9CgovKioKICogR2VuZXJhdG9yIGZ1bmN0aW9uIHdoaWNoIGlzIGNhbGxlZCBiZXR3ZWVuIGVhY2ggYXN5bmMgc3RlcCBvZiB0aGUgdXBsb2FkCiAqIHByb2Nlc3MuCiAqIEBwYXJhbSB7c3RyaW5nfSBpbnB1dElkIEVsZW1lbnQgSUQgb2YgdGhlIGlucHV0IGZpbGUgcGlja2VyIGVsZW1lbnQuCiAqIEBwYXJhbSB7c3RyaW5nfSBvdXRwdXRJZCBFbGVtZW50IElEIG9mIHRoZSBvdXRwdXQgZGlzcGxheS4KICogQHJldHVybiB7IUl0ZXJhYmxlPCFPYmplY3Q+fSBJdGVyYWJsZSBvZiBuZXh0IHN0ZXBzLgogKi8KZnVuY3Rpb24qIHVwbG9hZEZpbGVzU3RlcChpbnB1dElkLCBvdXRwdXRJZCkgewogIGNvbnN0IGlucHV0RWxlbWVudCA9IGRvY3VtZW50LmdldEVsZW1lbnRCeUlkKGlucHV0SWQpOwogIGlucHV0RWxlbWVudC5kaXNhYmxlZCA9IGZhbHNlOwoKICBjb25zdCBvdXRwdXRFbGVtZW50ID0gZG9jdW1lbnQuZ2V0RWxlbWVudEJ5SWQob3V0cHV0SWQpOwogIG91dHB1dEVsZW1lbnQuaW5uZXJIVE1MID0gJyc7CgogIGNvbnN0IHBpY2tlZFByb21pc2UgPSBuZXcgUHJvbWlzZSgocmVzb2x2ZSkgPT4gewogICAgaW5wdXRFbGVtZW50LmFkZEV2ZW50TGlzdGVuZXIoJ2NoYW5nZScsIChlKSA9PiB7CiAgICAgIHJlc29sdmUoZS50YXJnZXQuZmlsZXMpOwogICAgfSk7CiAgfSk7CgogIGNvbnN0IGNhbmNlbCA9IGRvY3VtZW50LmNyZWF0ZUVsZW1lbnQoJ2J1dHRvbicpOwogIGlucHV0RWxlbWVudC5wYXJlbnRFbGVtZW50LmFwcGVuZENoaWxkKGNhbmNlbCk7CiAgY2FuY2VsLnRleHRDb250ZW50ID0gJ0NhbmNlbCB1cGxvYWQnOwogIGNvbnN0IGNhbmNlbFByb21pc2UgPSBuZXcgUHJvbWlzZSgocmVzb2x2ZSkgPT4gewogICAgY2FuY2VsLm9uY2xpY2sgPSAoKSA9PiB7CiAgICAgIHJlc29sdmUobnVsbCk7CiAgICB9OwogIH0pOwoKICAvLyBXYWl0IGZvciB0aGUgdXNlciB0byBwaWNrIHRoZSBmaWxlcy4KICBjb25zdCBmaWxlcyA9IHlpZWxkIHsKICAgIHByb21pc2U6IFByb21pc2UucmFjZShbcGlja2VkUHJvbWlzZSwgY2FuY2VsUHJvbWlzZV0pLAogICAgcmVzcG9uc2U6IHsKICAgICAgYWN0aW9uOiAnc3RhcnRpbmcnLAogICAgfQogIH07CgogIGNhbmNlbC5yZW1vdmUoKTsKCiAgLy8gRGlzYWJsZSB0aGUgaW5wdXQgZWxlbWVudCBzaW5jZSBmdXJ0aGVyIHBpY2tzIGFyZSBub3QgYWxsb3dlZC4KICBpbnB1dEVsZW1lbnQuZGlzYWJsZWQgPSB0cnVlOwoKICBpZiAoIWZpbGVzKSB7CiAgICByZXR1cm4gewogICAgICByZXNwb25zZTogewogICAgICAgIGFjdGlvbjogJ2NvbXBsZXRlJywKICAgICAgfQogICAgfTsKICB9CgogIGZvciAoY29uc3QgZmlsZSBvZiBmaWxlcykgewogICAgY29uc3QgbGkgPSBkb2N1bWVudC5jcmVhdGVFbGVtZW50KCdsaScpOwogICAgbGkuYXBwZW5kKHNwYW4oZmlsZS5uYW1lLCB7Zm9udFdlaWdodDogJ2JvbGQnfSkpOwogICAgbGkuYXBwZW5kKHNwYW4oCiAgICAgICAgYCgke2ZpbGUudHlwZSB8fCAnbi9hJ30pIC0gJHtmaWxlLnNpemV9IGJ5dGVzLCBgICsKICAgICAgICBgbGFzdCBtb2RpZmllZDogJHsKICAgICAgICAgICAgZmlsZS5sYXN0TW9kaWZpZWREYXRlID8gZmlsZS5sYXN0TW9kaWZpZWREYXRlLnRvTG9jYWxlRGF0ZVN0cmluZygpIDoKICAgICAgICAgICAgICAgICAgICAgICAgICAgICAgICAgICAgJ24vYSd9IC0gYCkpOwogICAgY29uc3QgcGVyY2VudCA9IHNwYW4oJzAlIGRvbmUnKTsKICAgIGxpLmFwcGVuZENoaWxkKHBlcmNlbnQpOwoKICAgIG91dHB1dEVsZW1lbnQuYXBwZW5kQ2hpbGQobGkpOwoKICAgIGNvbnN0IGZpbGVEYXRhUHJvbWlzZSA9IG5ldyBQcm9taXNlKChyZXNvbHZlKSA9PiB7CiAgICAgIGNvbnN0IHJlYWRlciA9IG5ldyBGaWxlUmVhZGVyKCk7CiAgICAgIHJlYWRlci5vbmxvYWQgPSAoZSkgPT4gewogICAgICAgIHJlc29sdmUoZS50YXJnZXQucmVzdWx0KTsKICAgICAgfTsKICAgICAgcmVhZGVyLnJlYWRBc0FycmF5QnVmZmVyKGZpbGUpOwogICAgfSk7CiAgICAvLyBXYWl0IGZvciB0aGUgZGF0YSB0byBiZSByZWFkeS4KICAgIGxldCBmaWxlRGF0YSA9IHlpZWxkIHsKICAgICAgcHJvbWlzZTogZmlsZURhdGFQcm9taXNlLAogICAgICByZXNwb25zZTogewogICAgICAgIGFjdGlvbjogJ2NvbnRpbnVlJywKICAgICAgfQogICAgfTsKCiAgICAvLyBVc2UgYSBjaHVua2VkIHNlbmRpbmcgdG8gYXZvaWQgbWVzc2FnZSBzaXplIGxpbWl0cy4gU2VlIGIvNjIxMTU2NjAuCiAgICBsZXQgcG9zaXRpb24gPSAwOwogICAgd2hpbGUgKHBvc2l0aW9uIDwgZmlsZURhdGEuYnl0ZUxlbmd0aCkgewogICAgICBjb25zdCBsZW5ndGggPSBNYXRoLm1pbihmaWxlRGF0YS5ieXRlTGVuZ3RoIC0gcG9zaXRpb24sIE1BWF9QQVlMT0FEX1NJWkUpOwogICAgICBjb25zdCBjaHVuayA9IG5ldyBVaW50OEFycmF5KGZpbGVEYXRhLCBwb3NpdGlvbiwgbGVuZ3RoKTsKICAgICAgcG9zaXRpb24gKz0gbGVuZ3RoOwoKICAgICAgY29uc3QgYmFzZTY0ID0gYnRvYShTdHJpbmcuZnJvbUNoYXJDb2RlLmFwcGx5KG51bGwsIGNodW5rKSk7CiAgICAgIHlpZWxkIHsKICAgICAgICByZXNwb25zZTogewogICAgICAgICAgYWN0aW9uOiAnYXBwZW5kJywKICAgICAgICAgIGZpbGU6IGZpbGUubmFtZSwKICAgICAgICAgIGRhdGE6IGJhc2U2NCwKICAgICAgICB9LAogICAgICB9OwogICAgICBwZXJjZW50LnRleHRDb250ZW50ID0KICAgICAgICAgIGAke01hdGgucm91bmQoKHBvc2l0aW9uIC8gZmlsZURhdGEuYnl0ZUxlbmd0aCkgKiAxMDApfSUgZG9uZWA7CiAgICB9CiAgfQoKICAvLyBBbGwgZG9uZS4KICB5aWVsZCB7CiAgICByZXNwb25zZTogewogICAgICBhY3Rpb246ICdjb21wbGV0ZScsCiAgICB9CiAgfTsKfQoKc2NvcGUuZ29vZ2xlID0gc2NvcGUuZ29vZ2xlIHx8IHt9OwpzY29wZS5nb29nbGUuY29sYWIgPSBzY29wZS5nb29nbGUuY29sYWIgfHwge307CnNjb3BlLmdvb2dsZS5jb2xhYi5fZmlsZXMgPSB7CiAgX3VwbG9hZEZpbGVzLAogIF91cGxvYWRGaWxlc0NvbnRpbnVlLAp9Owp9KShzZWxmKTsK",
              "ok": true,
              "headers": [
                [
                  "content-type",
                  "application/javascript"
                ]
              ],
              "status": 200,
              "status_text": ""
            }
          },
          "base_uri": "https://localhost:8080/",
          "height": 72
        },
        "outputId": "ce15771b-6aec-4c02-9840-cae8f428a732"
      },
      "source": [
        "from google.colab import files\n",
        "uploaded = files.upload()"
      ],
      "execution_count": null,
      "outputs": [
        {
          "output_type": "display_data",
          "data": {
            "text/html": [
              "\n",
              "     <input type=\"file\" id=\"files-6cefa8bb-6ebc-4da7-83c9-19d58e437ca5\" name=\"files[]\" multiple disabled\n",
              "        style=\"border:none\" />\n",
              "     <output id=\"result-6cefa8bb-6ebc-4da7-83c9-19d58e437ca5\">\n",
              "      Upload widget is only available when the cell has been executed in the\n",
              "      current browser session. Please rerun this cell to enable.\n",
              "      </output>\n",
              "      <script src=\"/nbextensions/google.colab/files.js\"></script> "
            ],
            "text/plain": [
              "<IPython.core.display.HTML object>"
            ]
          },
          "metadata": {
            "tags": []
          }
        },
        {
          "output_type": "stream",
          "text": [
            "Saving 0000c8be-d9eb-b63c-1de9-fe7bf960cfd9.com.samsung.health.heart_rate.binning_data.json to 0000c8be-d9eb-b63c-1de9-fe7bf960cfd9.com.samsung.health.heart_rate.binning_data.json\n"
          ],
          "name": "stdout"
        }
      ]
    },
    {
      "cell_type": "code",
      "metadata": {
        "id": "KR8E6Tu5q8aE",
        "colab_type": "code",
        "colab": {
          "base_uri": "https://localhost:8080/",
          "height": 54
        },
        "outputId": "f7f9b181-f831-4808-879b-a390e1a02bbd"
      },
      "source": [
        "uploaded.values()\n",
        "#open(uploaded)\n",
        "#pd.read_json(uploaded)"
      ],
      "execution_count": null,
      "outputs": [
        {
          "output_type": "execute_result",
          "data": {
            "text/plain": [
              "dict_values([b'[{\"heart_rate\":111.0,\"heart_rate_max\":112.0,\"heart_rate_min\":111.0,\"start_time\":1585152000000,\"end_time\":1585152059000},{\"heart_rate\":114.0,\"heart_rate_max\":116.0,\"heart_rate_min\":112.0,\"start_time\":1585152120000,\"end_time\":1585152179000},{\"heart_rate\":114.0,\"heart_rate_max\":116.0,\"heart_rate_min\":112.0,\"start_time\":1585152180000,\"end_time\":1585152239000},{\"heart_rate\":108.0,\"heart_rate_max\":114.0,\"heart_rate_min\":103.0,\"start_time\":1585152240000,\"end_time\":1585152299000},{\"heart_rate\":97.0,\"heart_rate_max\":103.0,\"heart_rate_min\":92.0,\"start_time\":1585152300000,\"end_time\":1585152359000},{\"heart_rate\":83.0,\"heart_rate_max\":94.0,\"heart_rate_min\":77.0,\"start_time\":1585152360000,\"end_time\":1585152419000},{\"heart_rate\":83.0,\"heart_rate_max\":89.0,\"heart_rate_min\":76.0,\"start_time\":1585152420000,\"end_time\":1585152479000},{\"heart_rate\":83.0,\"heart_rate_max\":86.0,\"heart_rate_min\":79.0,\"start_time\":1585152480000,\"end_time\":1585152539000},{\"heart_rate\":83.0,\"heart_rate_max\":87.0,\"heart_rate_min\":79.0,\"start_time\":1585152540000,\"end_time\":1585152599000},{\"heart_rate\":66.0,\"heart_rate_max\":78.0,\"heart_rate_min\":60.0,\"start_time\":1585152600000,\"end_time\":1585152659000},{\"heart_rate\":68.0,\"heart_rate_max\":73.0,\"heart_rate_min\":66.0,\"start_time\":1585152660000,\"end_time\":1585152719000},{\"heart_rate\":73.0,\"heart_rate_max\":82.0,\"heart_rate_min\":65.0,\"start_time\":1585152720000,\"end_time\":1585152779000},{\"heart_rate\":62.0,\"heart_rate_max\":71.0,\"heart_rate_min\":56.0,\"start_time\":1585152780000,\"end_time\":1585152839000},{\"heart_rate\":58.0,\"heart_rate_max\":61.0,\"heart_rate_min\":54.0,\"start_time\":1585152840000,\"end_time\":1585152899000},{\"heart_rate\":61.0,\"heart_rate_max\":66.0,\"heart_rate_min\":57.0,\"start_time\":1585152900000,\"end_time\":1585152959000},{\"heart_rate\":56.0,\"heart_rate_max\":62.0,\"heart_rate_min\":53.0,\"start_time\":1585152960000,\"end_time\":1585153019000},{\"heart_rate\":56.0,\"heart_rate_max\":59.0,\"heart_rate_min\":54.0,\"start_time\":1585153020000,\"end_time\":1585153079000},{\"heart_rate\":63.0,\"heart_rate_max\":75.0,\"heart_rate_min\":56.0,\"start_time\":1585153080000,\"end_time\":1585153139000},{\"heart_rate\":76.0,\"heart_rate_max\":83.0,\"heart_rate_min\":68.0,\"start_time\":1585153140000,\"end_time\":1585153199000},{\"heart_rate\":80.0,\"heart_rate_max\":83.0,\"heart_rate_min\":79.0,\"start_time\":1585153200000,\"end_time\":1585153259000},{\"heart_rate\":80.0,\"heart_rate_max\":83.0,\"heart_rate_min\":78.0,\"start_time\":1585153260000,\"end_time\":1585153319000},{\"heart_rate\":81.0,\"heart_rate_max\":87.0,\"heart_rate_min\":78.0,\"start_time\":1585153320000,\"end_time\":1585153379000},{\"heart_rate\":85.0,\"heart_rate_max\":92.0,\"heart_rate_min\":78.0,\"start_time\":1585153380000,\"end_time\":1585153439000},{\"heart_rate\":84.0,\"heart_rate_max\":89.0,\"heart_rate_min\":79.0,\"start_time\":1585153440000,\"end_time\":1585153499000},{\"heart_rate\":85.0,\"heart_rate_max\":92.0,\"heart_rate_min\":80.0,\"start_time\":1585153500000,\"end_time\":1585153559000},{\"heart_rate\":87.0,\"heart_rate_max\":93.0,\"heart_rate_min\":82.0,\"start_time\":1585153560000,\"end_time\":1585153619000},{\"heart_rate\":99.0,\"heart_rate_max\":104.0,\"heart_rate_min\":96.0,\"start_time\":1585153620000,\"end_time\":1585153679000},{\"heart_rate\":104.0,\"heart_rate_max\":107.0,\"heart_rate_min\":100.0,\"start_time\":1585153680000,\"end_time\":1585153739000},{\"heart_rate\":105.0,\"heart_rate_max\":113.0,\"heart_rate_min\":98.0,\"start_time\":1585153740000,\"end_time\":1585153799000},{\"heart_rate\":101.0,\"heart_rate_max\":106.0,\"heart_rate_min\":95.0,\"start_time\":1585153800000,\"end_time\":1585153859000},{\"heart_rate\":107.0,\"heart_rate_max\":112.0,\"heart_rate_min\":104.0,\"start_time\":1585153860000,\"end_time\":1585153919000},{\"heart_rate\":115.0,\"heart_rate_max\":116.0,\"heart_rate_min\":114.0,\"start_time\":1585153920000,\"end_time\":1585153979000},{\"heart_rate\":114.0,\"heart_rate_max\":117.0,\"heart_rate_min\":112.0,\"start_time\":1585153980000,\"end_time\":1585154039000},{\"heart_rate\":65.0,\"heart_rate_max\":113.0,\"heart_rate_min\":57.0,\"start_time\":1585154040000,\"end_time\":1585154099000},{\"heart_rate\":62.0,\"heart_rate_max\":66.0,\"heart_rate_min\":57.0,\"start_time\":1585154100000,\"end_time\":1585154159000},{\"heart_rate\":60.0,\"heart_rate_max\":64.0,\"heart_rate_min\":55.0,\"start_time\":1585154160000,\"end_time\":1585154219000},{\"heart_rate\":64.0,\"heart_rate_max\":76.0,\"heart_rate_min\":58.0,\"start_time\":1585154220000,\"end_time\":1585154279000},{\"heart_rate\":67.0,\"heart_rate_max\":75.0,\"heart_rate_min\":61.0,\"start_time\":1585154280000,\"end_time\":1585154339000},{\"heart_rate\":66.0,\"heart_rate_max\":74.0,\"heart_rate_min\":61.0,\"start_time\":1585154340000,\"end_time\":1585154399000},{\"heart_rate\":68.0,\"heart_rate_max\":72.0,\"heart_rate_min\":62.0,\"start_time\":1585154400000,\"end_time\":1585154459000},{\"heart_rate\":70.0,\"heart_rate_max\":75.0,\"heart_rate_min\":67.0,\"start_time\":1585154460000,\"end_time\":1585154519000},{\"heart_rate\":66.0,\"heart_rate_max\":78.0,\"heart_rate_min\":60.0,\"start_time\":1585154520000,\"end_time\":1585154579000},{\"heart_rate\":77.0,\"heart_rate_max\":82.0,\"heart_rate_min\":71.0,\"start_time\":1585154580000,\"end_time\":1585154639000},{\"heart_rate\":73.0,\"heart_rate_max\":81.0,\"heart_rate_min\":67.0,\"start_time\":1585154640000,\"end_time\":1585154699000},{\"heart_rate\":72.0,\"heart_rate_max\":80.0,\"heart_rate_min\":63.0,\"start_time\":1585154700000,\"end_time\":1585154759000},{\"heart_rate\":62.0,\"heart_rate_max\":67.0,\"heart_rate_min\":58.0,\"start_time\":1585154760000,\"end_time\":1585154819000},{\"heart_rate\":62.0,\"heart_rate_max\":66.0,\"heart_rate_min\":59.0,\"start_time\":1585154820000,\"end_time\":1585154879000},{\"heart_rate\":65.0,\"heart_rate_max\":69.0,\"heart_rate_min\":64.0,\"start_time\":1585154880000,\"end_time\":1585154939000},{\"heart_rate\":65.0,\"heart_rate_max\":70.0,\"heart_rate_min\":61.0,\"start_time\":1585154940000,\"end_time\":1585154999000},{\"heart_rate\":66.0,\"heart_rate_max\":70.0,\"heart_rate_min\":63.0,\"start_time\":1585155000000,\"end_time\":1585155059000},{\"heart_rate\":72.0,\"heart_rate_max\":79.0,\"heart_rate_min\":63.0,\"start_time\":1585155060000,\"end_time\":1585155119000},{\"heart_rate\":64.0,\"heart_rate_max\":69.0,\"heart_rate_min\":62.0,\"start_time\":1585155120000,\"end_time\":1585155179000},{\"heart_rate\":72.0,\"heart_rate_max\":84.0,\"heart_rate_min\":64.0,\"start_time\":1585155180000,\"end_time\":1585155239000},{\"heart_rate\":73.0,\"heart_rate_max\":80.0,\"heart_rate_min\":67.0,\"start_time\":1585155240000,\"end_time\":1585155299000},{\"heart_rate\":81.0,\"heart_rate_max\":88.0,\"heart_rate_min\":71.0,\"start_time\":1585155300000,\"end_time\":1585155359000},{\"heart_rate\":84.0,\"heart_rate_max\":87.0,\"heart_rate_min\":82.0,\"start_time\":1585155360000,\"end_time\":1585155419000},{\"heart_rate\":70.0,\"heart_rate_max\":86.0,\"heart_rate_min\":57.0,\"start_time\":1585155420000,\"end_time\":1585155479000},{\"heart_rate\":63.0,\"heart_rate_max\":70.0,\"heart_rate_min\":60.0,\"start_time\":1585155480000,\"end_time\":1585155539000},{\"heart_rate\":60.0,\"heart_rate_max\":64.0,\"heart_rate_min\":59.0,\"start_time\":1585155540000,\"end_time\":1585155599000}]'])"
            ]
          },
          "metadata": {
            "tags": []
          },
          "execution_count": 17
        }
      ]
    },
    {
      "cell_type": "code",
      "metadata": {
        "id": "WeQeY9dKxH6r",
        "colab_type": "code",
        "colab": {}
      },
      "source": [
        "data = next(iter(uploaded.values()))\n",
        "d = json.loads(data.decode())\n",
        "d\n",
        "#subido=pd.read_json(d) creo que ya esta encodeado en unicode entonces no lo necesito leer\n",
        "#subido=json.parse(d)\n",
        "subido=json.dumps(d)\n",
        "pd.read_json(subido)"
      ],
      "execution_count": null,
      "outputs": []
    },
    {
      "cell_type": "code",
      "metadata": {
        "id": "pvuViDrigRuo",
        "colab_type": "code",
        "colab": {
          "base_uri": "https://localhost:8080/",
          "height": 1000
        },
        "outputId": "5facd051-7c3f-4dc4-89d0-e633d6121871"
      },
      "source": [
        "''' en vez de instanciar variables meto todos los json (en string) dentro de una lista '''\n",
        "jsonlist=[subido, jsonx,otroDia]\n",
        "jsonlist\n",
        "jsonleido=[]\n",
        "for i in range(len(jsonlist)):\n",
        "  jsonleido.append(pd.read_json(jsonlist[i]))\n",
        "resultado=pd.concat(jsonleido)\n",
        "resultado.sort_values(by=['start_time'])\n",
        "resultado.head(5)\n",
        "jsonleido[0]"
      ],
      "execution_count": null,
      "outputs": [
        {
          "output_type": "execute_result",
          "data": {
            "text/html": [
              "<div>\n",
              "<style scoped>\n",
              "    .dataframe tbody tr th:only-of-type {\n",
              "        vertical-align: middle;\n",
              "    }\n",
              "\n",
              "    .dataframe tbody tr th {\n",
              "        vertical-align: top;\n",
              "    }\n",
              "\n",
              "    .dataframe thead th {\n",
              "        text-align: right;\n",
              "    }\n",
              "</style>\n",
              "<table border=\"1\" class=\"dataframe\">\n",
              "  <thead>\n",
              "    <tr style=\"text-align: right;\">\n",
              "      <th></th>\n",
              "      <th>heart_rate</th>\n",
              "      <th>heart_rate_max</th>\n",
              "      <th>heart_rate_min</th>\n",
              "      <th>start_time</th>\n",
              "      <th>end_time</th>\n",
              "    </tr>\n",
              "  </thead>\n",
              "  <tbody>\n",
              "    <tr>\n",
              "      <th>0</th>\n",
              "      <td>111</td>\n",
              "      <td>112</td>\n",
              "      <td>111</td>\n",
              "      <td>2020-03-25 16:00:00</td>\n",
              "      <td>2020-03-25 16:00:59</td>\n",
              "    </tr>\n",
              "    <tr>\n",
              "      <th>1</th>\n",
              "      <td>114</td>\n",
              "      <td>116</td>\n",
              "      <td>112</td>\n",
              "      <td>2020-03-25 16:02:00</td>\n",
              "      <td>2020-03-25 16:02:59</td>\n",
              "    </tr>\n",
              "    <tr>\n",
              "      <th>2</th>\n",
              "      <td>114</td>\n",
              "      <td>116</td>\n",
              "      <td>112</td>\n",
              "      <td>2020-03-25 16:03:00</td>\n",
              "      <td>2020-03-25 16:03:59</td>\n",
              "    </tr>\n",
              "    <tr>\n",
              "      <th>3</th>\n",
              "      <td>108</td>\n",
              "      <td>114</td>\n",
              "      <td>103</td>\n",
              "      <td>2020-03-25 16:04:00</td>\n",
              "      <td>2020-03-25 16:04:59</td>\n",
              "    </tr>\n",
              "    <tr>\n",
              "      <th>4</th>\n",
              "      <td>97</td>\n",
              "      <td>103</td>\n",
              "      <td>92</td>\n",
              "      <td>2020-03-25 16:05:00</td>\n",
              "      <td>2020-03-25 16:05:59</td>\n",
              "    </tr>\n",
              "    <tr>\n",
              "      <th>5</th>\n",
              "      <td>83</td>\n",
              "      <td>94</td>\n",
              "      <td>77</td>\n",
              "      <td>2020-03-25 16:06:00</td>\n",
              "      <td>2020-03-25 16:06:59</td>\n",
              "    </tr>\n",
              "    <tr>\n",
              "      <th>6</th>\n",
              "      <td>83</td>\n",
              "      <td>89</td>\n",
              "      <td>76</td>\n",
              "      <td>2020-03-25 16:07:00</td>\n",
              "      <td>2020-03-25 16:07:59</td>\n",
              "    </tr>\n",
              "    <tr>\n",
              "      <th>7</th>\n",
              "      <td>83</td>\n",
              "      <td>86</td>\n",
              "      <td>79</td>\n",
              "      <td>2020-03-25 16:08:00</td>\n",
              "      <td>2020-03-25 16:08:59</td>\n",
              "    </tr>\n",
              "    <tr>\n",
              "      <th>8</th>\n",
              "      <td>83</td>\n",
              "      <td>87</td>\n",
              "      <td>79</td>\n",
              "      <td>2020-03-25 16:09:00</td>\n",
              "      <td>2020-03-25 16:09:59</td>\n",
              "    </tr>\n",
              "    <tr>\n",
              "      <th>9</th>\n",
              "      <td>66</td>\n",
              "      <td>78</td>\n",
              "      <td>60</td>\n",
              "      <td>2020-03-25 16:10:00</td>\n",
              "      <td>2020-03-25 16:10:59</td>\n",
              "    </tr>\n",
              "    <tr>\n",
              "      <th>10</th>\n",
              "      <td>68</td>\n",
              "      <td>73</td>\n",
              "      <td>66</td>\n",
              "      <td>2020-03-25 16:11:00</td>\n",
              "      <td>2020-03-25 16:11:59</td>\n",
              "    </tr>\n",
              "    <tr>\n",
              "      <th>11</th>\n",
              "      <td>73</td>\n",
              "      <td>82</td>\n",
              "      <td>65</td>\n",
              "      <td>2020-03-25 16:12:00</td>\n",
              "      <td>2020-03-25 16:12:59</td>\n",
              "    </tr>\n",
              "    <tr>\n",
              "      <th>12</th>\n",
              "      <td>62</td>\n",
              "      <td>71</td>\n",
              "      <td>56</td>\n",
              "      <td>2020-03-25 16:13:00</td>\n",
              "      <td>2020-03-25 16:13:59</td>\n",
              "    </tr>\n",
              "    <tr>\n",
              "      <th>13</th>\n",
              "      <td>58</td>\n",
              "      <td>61</td>\n",
              "      <td>54</td>\n",
              "      <td>2020-03-25 16:14:00</td>\n",
              "      <td>2020-03-25 16:14:59</td>\n",
              "    </tr>\n",
              "    <tr>\n",
              "      <th>14</th>\n",
              "      <td>61</td>\n",
              "      <td>66</td>\n",
              "      <td>57</td>\n",
              "      <td>2020-03-25 16:15:00</td>\n",
              "      <td>2020-03-25 16:15:59</td>\n",
              "    </tr>\n",
              "    <tr>\n",
              "      <th>15</th>\n",
              "      <td>56</td>\n",
              "      <td>62</td>\n",
              "      <td>53</td>\n",
              "      <td>2020-03-25 16:16:00</td>\n",
              "      <td>2020-03-25 16:16:59</td>\n",
              "    </tr>\n",
              "    <tr>\n",
              "      <th>16</th>\n",
              "      <td>56</td>\n",
              "      <td>59</td>\n",
              "      <td>54</td>\n",
              "      <td>2020-03-25 16:17:00</td>\n",
              "      <td>2020-03-25 16:17:59</td>\n",
              "    </tr>\n",
              "    <tr>\n",
              "      <th>17</th>\n",
              "      <td>63</td>\n",
              "      <td>75</td>\n",
              "      <td>56</td>\n",
              "      <td>2020-03-25 16:18:00</td>\n",
              "      <td>2020-03-25 16:18:59</td>\n",
              "    </tr>\n",
              "    <tr>\n",
              "      <th>18</th>\n",
              "      <td>76</td>\n",
              "      <td>83</td>\n",
              "      <td>68</td>\n",
              "      <td>2020-03-25 16:19:00</td>\n",
              "      <td>2020-03-25 16:19:59</td>\n",
              "    </tr>\n",
              "    <tr>\n",
              "      <th>19</th>\n",
              "      <td>80</td>\n",
              "      <td>83</td>\n",
              "      <td>79</td>\n",
              "      <td>2020-03-25 16:20:00</td>\n",
              "      <td>2020-03-25 16:20:59</td>\n",
              "    </tr>\n",
              "    <tr>\n",
              "      <th>20</th>\n",
              "      <td>80</td>\n",
              "      <td>83</td>\n",
              "      <td>78</td>\n",
              "      <td>2020-03-25 16:21:00</td>\n",
              "      <td>2020-03-25 16:21:59</td>\n",
              "    </tr>\n",
              "    <tr>\n",
              "      <th>21</th>\n",
              "      <td>81</td>\n",
              "      <td>87</td>\n",
              "      <td>78</td>\n",
              "      <td>2020-03-25 16:22:00</td>\n",
              "      <td>2020-03-25 16:22:59</td>\n",
              "    </tr>\n",
              "    <tr>\n",
              "      <th>22</th>\n",
              "      <td>85</td>\n",
              "      <td>92</td>\n",
              "      <td>78</td>\n",
              "      <td>2020-03-25 16:23:00</td>\n",
              "      <td>2020-03-25 16:23:59</td>\n",
              "    </tr>\n",
              "    <tr>\n",
              "      <th>23</th>\n",
              "      <td>84</td>\n",
              "      <td>89</td>\n",
              "      <td>79</td>\n",
              "      <td>2020-03-25 16:24:00</td>\n",
              "      <td>2020-03-25 16:24:59</td>\n",
              "    </tr>\n",
              "    <tr>\n",
              "      <th>24</th>\n",
              "      <td>85</td>\n",
              "      <td>92</td>\n",
              "      <td>80</td>\n",
              "      <td>2020-03-25 16:25:00</td>\n",
              "      <td>2020-03-25 16:25:59</td>\n",
              "    </tr>\n",
              "    <tr>\n",
              "      <th>25</th>\n",
              "      <td>87</td>\n",
              "      <td>93</td>\n",
              "      <td>82</td>\n",
              "      <td>2020-03-25 16:26:00</td>\n",
              "      <td>2020-03-25 16:26:59</td>\n",
              "    </tr>\n",
              "    <tr>\n",
              "      <th>26</th>\n",
              "      <td>99</td>\n",
              "      <td>104</td>\n",
              "      <td>96</td>\n",
              "      <td>2020-03-25 16:27:00</td>\n",
              "      <td>2020-03-25 16:27:59</td>\n",
              "    </tr>\n",
              "    <tr>\n",
              "      <th>27</th>\n",
              "      <td>104</td>\n",
              "      <td>107</td>\n",
              "      <td>100</td>\n",
              "      <td>2020-03-25 16:28:00</td>\n",
              "      <td>2020-03-25 16:28:59</td>\n",
              "    </tr>\n",
              "    <tr>\n",
              "      <th>28</th>\n",
              "      <td>105</td>\n",
              "      <td>113</td>\n",
              "      <td>98</td>\n",
              "      <td>2020-03-25 16:29:00</td>\n",
              "      <td>2020-03-25 16:29:59</td>\n",
              "    </tr>\n",
              "    <tr>\n",
              "      <th>29</th>\n",
              "      <td>101</td>\n",
              "      <td>106</td>\n",
              "      <td>95</td>\n",
              "      <td>2020-03-25 16:30:00</td>\n",
              "      <td>2020-03-25 16:30:59</td>\n",
              "    </tr>\n",
              "    <tr>\n",
              "      <th>30</th>\n",
              "      <td>107</td>\n",
              "      <td>112</td>\n",
              "      <td>104</td>\n",
              "      <td>2020-03-25 16:31:00</td>\n",
              "      <td>2020-03-25 16:31:59</td>\n",
              "    </tr>\n",
              "    <tr>\n",
              "      <th>31</th>\n",
              "      <td>115</td>\n",
              "      <td>116</td>\n",
              "      <td>114</td>\n",
              "      <td>2020-03-25 16:32:00</td>\n",
              "      <td>2020-03-25 16:32:59</td>\n",
              "    </tr>\n",
              "    <tr>\n",
              "      <th>32</th>\n",
              "      <td>114</td>\n",
              "      <td>117</td>\n",
              "      <td>112</td>\n",
              "      <td>2020-03-25 16:33:00</td>\n",
              "      <td>2020-03-25 16:33:59</td>\n",
              "    </tr>\n",
              "    <tr>\n",
              "      <th>33</th>\n",
              "      <td>65</td>\n",
              "      <td>113</td>\n",
              "      <td>57</td>\n",
              "      <td>2020-03-25 16:34:00</td>\n",
              "      <td>2020-03-25 16:34:59</td>\n",
              "    </tr>\n",
              "    <tr>\n",
              "      <th>34</th>\n",
              "      <td>62</td>\n",
              "      <td>66</td>\n",
              "      <td>57</td>\n",
              "      <td>2020-03-25 16:35:00</td>\n",
              "      <td>2020-03-25 16:35:59</td>\n",
              "    </tr>\n",
              "    <tr>\n",
              "      <th>35</th>\n",
              "      <td>60</td>\n",
              "      <td>64</td>\n",
              "      <td>55</td>\n",
              "      <td>2020-03-25 16:36:00</td>\n",
              "      <td>2020-03-25 16:36:59</td>\n",
              "    </tr>\n",
              "    <tr>\n",
              "      <th>36</th>\n",
              "      <td>64</td>\n",
              "      <td>76</td>\n",
              "      <td>58</td>\n",
              "      <td>2020-03-25 16:37:00</td>\n",
              "      <td>2020-03-25 16:37:59</td>\n",
              "    </tr>\n",
              "    <tr>\n",
              "      <th>37</th>\n",
              "      <td>67</td>\n",
              "      <td>75</td>\n",
              "      <td>61</td>\n",
              "      <td>2020-03-25 16:38:00</td>\n",
              "      <td>2020-03-25 16:38:59</td>\n",
              "    </tr>\n",
              "    <tr>\n",
              "      <th>38</th>\n",
              "      <td>66</td>\n",
              "      <td>74</td>\n",
              "      <td>61</td>\n",
              "      <td>2020-03-25 16:39:00</td>\n",
              "      <td>2020-03-25 16:39:59</td>\n",
              "    </tr>\n",
              "    <tr>\n",
              "      <th>39</th>\n",
              "      <td>68</td>\n",
              "      <td>72</td>\n",
              "      <td>62</td>\n",
              "      <td>2020-03-25 16:40:00</td>\n",
              "      <td>2020-03-25 16:40:59</td>\n",
              "    </tr>\n",
              "    <tr>\n",
              "      <th>40</th>\n",
              "      <td>70</td>\n",
              "      <td>75</td>\n",
              "      <td>67</td>\n",
              "      <td>2020-03-25 16:41:00</td>\n",
              "      <td>2020-03-25 16:41:59</td>\n",
              "    </tr>\n",
              "    <tr>\n",
              "      <th>41</th>\n",
              "      <td>66</td>\n",
              "      <td>78</td>\n",
              "      <td>60</td>\n",
              "      <td>2020-03-25 16:42:00</td>\n",
              "      <td>2020-03-25 16:42:59</td>\n",
              "    </tr>\n",
              "    <tr>\n",
              "      <th>42</th>\n",
              "      <td>77</td>\n",
              "      <td>82</td>\n",
              "      <td>71</td>\n",
              "      <td>2020-03-25 16:43:00</td>\n",
              "      <td>2020-03-25 16:43:59</td>\n",
              "    </tr>\n",
              "    <tr>\n",
              "      <th>43</th>\n",
              "      <td>73</td>\n",
              "      <td>81</td>\n",
              "      <td>67</td>\n",
              "      <td>2020-03-25 16:44:00</td>\n",
              "      <td>2020-03-25 16:44:59</td>\n",
              "    </tr>\n",
              "    <tr>\n",
              "      <th>44</th>\n",
              "      <td>72</td>\n",
              "      <td>80</td>\n",
              "      <td>63</td>\n",
              "      <td>2020-03-25 16:45:00</td>\n",
              "      <td>2020-03-25 16:45:59</td>\n",
              "    </tr>\n",
              "    <tr>\n",
              "      <th>45</th>\n",
              "      <td>62</td>\n",
              "      <td>67</td>\n",
              "      <td>58</td>\n",
              "      <td>2020-03-25 16:46:00</td>\n",
              "      <td>2020-03-25 16:46:59</td>\n",
              "    </tr>\n",
              "    <tr>\n",
              "      <th>46</th>\n",
              "      <td>62</td>\n",
              "      <td>66</td>\n",
              "      <td>59</td>\n",
              "      <td>2020-03-25 16:47:00</td>\n",
              "      <td>2020-03-25 16:47:59</td>\n",
              "    </tr>\n",
              "    <tr>\n",
              "      <th>47</th>\n",
              "      <td>65</td>\n",
              "      <td>69</td>\n",
              "      <td>64</td>\n",
              "      <td>2020-03-25 16:48:00</td>\n",
              "      <td>2020-03-25 16:48:59</td>\n",
              "    </tr>\n",
              "    <tr>\n",
              "      <th>48</th>\n",
              "      <td>65</td>\n",
              "      <td>70</td>\n",
              "      <td>61</td>\n",
              "      <td>2020-03-25 16:49:00</td>\n",
              "      <td>2020-03-25 16:49:59</td>\n",
              "    </tr>\n",
              "    <tr>\n",
              "      <th>49</th>\n",
              "      <td>66</td>\n",
              "      <td>70</td>\n",
              "      <td>63</td>\n",
              "      <td>2020-03-25 16:50:00</td>\n",
              "      <td>2020-03-25 16:50:59</td>\n",
              "    </tr>\n",
              "    <tr>\n",
              "      <th>50</th>\n",
              "      <td>72</td>\n",
              "      <td>79</td>\n",
              "      <td>63</td>\n",
              "      <td>2020-03-25 16:51:00</td>\n",
              "      <td>2020-03-25 16:51:59</td>\n",
              "    </tr>\n",
              "    <tr>\n",
              "      <th>51</th>\n",
              "      <td>64</td>\n",
              "      <td>69</td>\n",
              "      <td>62</td>\n",
              "      <td>2020-03-25 16:52:00</td>\n",
              "      <td>2020-03-25 16:52:59</td>\n",
              "    </tr>\n",
              "    <tr>\n",
              "      <th>52</th>\n",
              "      <td>72</td>\n",
              "      <td>84</td>\n",
              "      <td>64</td>\n",
              "      <td>2020-03-25 16:53:00</td>\n",
              "      <td>2020-03-25 16:53:59</td>\n",
              "    </tr>\n",
              "    <tr>\n",
              "      <th>53</th>\n",
              "      <td>73</td>\n",
              "      <td>80</td>\n",
              "      <td>67</td>\n",
              "      <td>2020-03-25 16:54:00</td>\n",
              "      <td>2020-03-25 16:54:59</td>\n",
              "    </tr>\n",
              "    <tr>\n",
              "      <th>54</th>\n",
              "      <td>81</td>\n",
              "      <td>88</td>\n",
              "      <td>71</td>\n",
              "      <td>2020-03-25 16:55:00</td>\n",
              "      <td>2020-03-25 16:55:59</td>\n",
              "    </tr>\n",
              "    <tr>\n",
              "      <th>55</th>\n",
              "      <td>84</td>\n",
              "      <td>87</td>\n",
              "      <td>82</td>\n",
              "      <td>2020-03-25 16:56:00</td>\n",
              "      <td>2020-03-25 16:56:59</td>\n",
              "    </tr>\n",
              "    <tr>\n",
              "      <th>56</th>\n",
              "      <td>70</td>\n",
              "      <td>86</td>\n",
              "      <td>57</td>\n",
              "      <td>2020-03-25 16:57:00</td>\n",
              "      <td>2020-03-25 16:57:59</td>\n",
              "    </tr>\n",
              "    <tr>\n",
              "      <th>57</th>\n",
              "      <td>63</td>\n",
              "      <td>70</td>\n",
              "      <td>60</td>\n",
              "      <td>2020-03-25 16:58:00</td>\n",
              "      <td>2020-03-25 16:58:59</td>\n",
              "    </tr>\n",
              "    <tr>\n",
              "      <th>58</th>\n",
              "      <td>60</td>\n",
              "      <td>64</td>\n",
              "      <td>59</td>\n",
              "      <td>2020-03-25 16:59:00</td>\n",
              "      <td>2020-03-25 16:59:59</td>\n",
              "    </tr>\n",
              "  </tbody>\n",
              "</table>\n",
              "</div>"
            ],
            "text/plain": [
              "    heart_rate  heart_rate_max  ...          start_time            end_time\n",
              "0          111             112  ... 2020-03-25 16:00:00 2020-03-25 16:00:59\n",
              "1          114             116  ... 2020-03-25 16:02:00 2020-03-25 16:02:59\n",
              "2          114             116  ... 2020-03-25 16:03:00 2020-03-25 16:03:59\n",
              "3          108             114  ... 2020-03-25 16:04:00 2020-03-25 16:04:59\n",
              "4           97             103  ... 2020-03-25 16:05:00 2020-03-25 16:05:59\n",
              "5           83              94  ... 2020-03-25 16:06:00 2020-03-25 16:06:59\n",
              "6           83              89  ... 2020-03-25 16:07:00 2020-03-25 16:07:59\n",
              "7           83              86  ... 2020-03-25 16:08:00 2020-03-25 16:08:59\n",
              "8           83              87  ... 2020-03-25 16:09:00 2020-03-25 16:09:59\n",
              "9           66              78  ... 2020-03-25 16:10:00 2020-03-25 16:10:59\n",
              "10          68              73  ... 2020-03-25 16:11:00 2020-03-25 16:11:59\n",
              "11          73              82  ... 2020-03-25 16:12:00 2020-03-25 16:12:59\n",
              "12          62              71  ... 2020-03-25 16:13:00 2020-03-25 16:13:59\n",
              "13          58              61  ... 2020-03-25 16:14:00 2020-03-25 16:14:59\n",
              "14          61              66  ... 2020-03-25 16:15:00 2020-03-25 16:15:59\n",
              "15          56              62  ... 2020-03-25 16:16:00 2020-03-25 16:16:59\n",
              "16          56              59  ... 2020-03-25 16:17:00 2020-03-25 16:17:59\n",
              "17          63              75  ... 2020-03-25 16:18:00 2020-03-25 16:18:59\n",
              "18          76              83  ... 2020-03-25 16:19:00 2020-03-25 16:19:59\n",
              "19          80              83  ... 2020-03-25 16:20:00 2020-03-25 16:20:59\n",
              "20          80              83  ... 2020-03-25 16:21:00 2020-03-25 16:21:59\n",
              "21          81              87  ... 2020-03-25 16:22:00 2020-03-25 16:22:59\n",
              "22          85              92  ... 2020-03-25 16:23:00 2020-03-25 16:23:59\n",
              "23          84              89  ... 2020-03-25 16:24:00 2020-03-25 16:24:59\n",
              "24          85              92  ... 2020-03-25 16:25:00 2020-03-25 16:25:59\n",
              "25          87              93  ... 2020-03-25 16:26:00 2020-03-25 16:26:59\n",
              "26          99             104  ... 2020-03-25 16:27:00 2020-03-25 16:27:59\n",
              "27         104             107  ... 2020-03-25 16:28:00 2020-03-25 16:28:59\n",
              "28         105             113  ... 2020-03-25 16:29:00 2020-03-25 16:29:59\n",
              "29         101             106  ... 2020-03-25 16:30:00 2020-03-25 16:30:59\n",
              "30         107             112  ... 2020-03-25 16:31:00 2020-03-25 16:31:59\n",
              "31         115             116  ... 2020-03-25 16:32:00 2020-03-25 16:32:59\n",
              "32         114             117  ... 2020-03-25 16:33:00 2020-03-25 16:33:59\n",
              "33          65             113  ... 2020-03-25 16:34:00 2020-03-25 16:34:59\n",
              "34          62              66  ... 2020-03-25 16:35:00 2020-03-25 16:35:59\n",
              "35          60              64  ... 2020-03-25 16:36:00 2020-03-25 16:36:59\n",
              "36          64              76  ... 2020-03-25 16:37:00 2020-03-25 16:37:59\n",
              "37          67              75  ... 2020-03-25 16:38:00 2020-03-25 16:38:59\n",
              "38          66              74  ... 2020-03-25 16:39:00 2020-03-25 16:39:59\n",
              "39          68              72  ... 2020-03-25 16:40:00 2020-03-25 16:40:59\n",
              "40          70              75  ... 2020-03-25 16:41:00 2020-03-25 16:41:59\n",
              "41          66              78  ... 2020-03-25 16:42:00 2020-03-25 16:42:59\n",
              "42          77              82  ... 2020-03-25 16:43:00 2020-03-25 16:43:59\n",
              "43          73              81  ... 2020-03-25 16:44:00 2020-03-25 16:44:59\n",
              "44          72              80  ... 2020-03-25 16:45:00 2020-03-25 16:45:59\n",
              "45          62              67  ... 2020-03-25 16:46:00 2020-03-25 16:46:59\n",
              "46          62              66  ... 2020-03-25 16:47:00 2020-03-25 16:47:59\n",
              "47          65              69  ... 2020-03-25 16:48:00 2020-03-25 16:48:59\n",
              "48          65              70  ... 2020-03-25 16:49:00 2020-03-25 16:49:59\n",
              "49          66              70  ... 2020-03-25 16:50:00 2020-03-25 16:50:59\n",
              "50          72              79  ... 2020-03-25 16:51:00 2020-03-25 16:51:59\n",
              "51          64              69  ... 2020-03-25 16:52:00 2020-03-25 16:52:59\n",
              "52          72              84  ... 2020-03-25 16:53:00 2020-03-25 16:53:59\n",
              "53          73              80  ... 2020-03-25 16:54:00 2020-03-25 16:54:59\n",
              "54          81              88  ... 2020-03-25 16:55:00 2020-03-25 16:55:59\n",
              "55          84              87  ... 2020-03-25 16:56:00 2020-03-25 16:56:59\n",
              "56          70              86  ... 2020-03-25 16:57:00 2020-03-25 16:57:59\n",
              "57          63              70  ... 2020-03-25 16:58:00 2020-03-25 16:58:59\n",
              "58          60              64  ... 2020-03-25 16:59:00 2020-03-25 16:59:59\n",
              "\n",
              "[59 rows x 5 columns]"
            ]
          },
          "metadata": {
            "tags": []
          },
          "execution_count": 61
        }
      ]
    },
    {
      "cell_type": "code",
      "metadata": {
        "id": "PcFNM630iMR7",
        "colab_type": "code",
        "colab": {
          "base_uri": "https://localhost:8080/",
          "height": 129
        },
        "outputId": "34329dd9-57e4-454f-e503-f4050c0f5dbb"
      },
      "source": [
        "#-------------------------------\n",
        "#aqui voy con el progreso real\n",
        "#-------------------------------"
      ],
      "execution_count": null,
      "outputs": [
        {
          "output_type": "error",
          "ename": "SyntaxError",
          "evalue": "ignored",
          "traceback": [
            "\u001b[0;36m  File \u001b[0;32m\"<ipython-input-47-04dbebb7b0d9>\"\u001b[0;36m, line \u001b[0;32m1\u001b[0m\n\u001b[0;31m    aqui voy con el progreso real\u001b[0m\n\u001b[0m           ^\u001b[0m\n\u001b[0;31mSyntaxError\u001b[0m\u001b[0;31m:\u001b[0m invalid syntax\n"
          ]
        }
      ]
    },
    {
      "cell_type": "code",
      "metadata": {
        "id": "WZW88Tq_iMfP",
        "colab_type": "code",
        "colab": {}
      },
      "source": [
        ""
      ],
      "execution_count": null,
      "outputs": []
    },
    {
      "cell_type": "code",
      "metadata": {
        "id": "oh17RM4gBFzL",
        "colab_type": "code",
        "colab": {}
      },
      "source": [
        "url = 'https://raw.githubusercontent.com/JavierCorralLizarraga/Datos-de-samsung-health/master/weas%20en%20csv/com.samsung.shealth.tracker.heart_rate.202006172040.csv'\n",
        "df1 = pd.read_csv(url, sep='delimiter', engine='python')\n",
        "    "
      ],
      "execution_count": null,
      "outputs": []
    },
    {
      "cell_type": "code",
      "metadata": {
        "id": "D6432Uhs3yJ3",
        "colab_type": "code",
        "colab": {}
      },
      "source": [
        "for i in os.listdir('C:/Users/new'):\n",
        "    if i.endswith('.json'):\n",
        "        files.append(open(i).read)\n",
        "But I got this error:"
      ],
      "execution_count": null,
      "outputs": []
    },
    {
      "cell_type": "code",
      "metadata": {
        "id": "n232pKrT8STY",
        "colab_type": "code",
        "colab": {}
      },
      "source": [
        "jsondelacarpeta1deheartbeat= 'un json muy largo que probe modificando con vim y no jalo'\n",
        "json.loads(jsondelacarpeta1deheartbeat)"
      ],
      "execution_count": null,
      "outputs": []
    },
    {
      "cell_type": "code",
      "metadata": {
        "id": "aLF7R1Kr80fc",
        "colab_type": "code",
        "colab": {}
      },
      "source": [
        "wea = pd.read_json(json)"
      ],
      "execution_count": null,
      "outputs": []
    }
  ]
}